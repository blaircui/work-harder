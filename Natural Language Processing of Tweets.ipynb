{
  "nbformat": 4,
  "nbformat_minor": 0,
  "metadata": {
    "colab": {
      "name": "cui_1004004367_assignment3.ipynb",
      "provenance": []
    },
    "kernelspec": {
      "display_name": "Python 3",
      "name": "python3"
    },
    "language_info": {
      "name": "python"
    },
    "accelerator": "GPU"
  },
  "cells": [
    {
      "cell_type": "markdown",
      "metadata": {
        "id": "OkKs_dJGcbQM"
      },
      "source": [
        "# MIE 1624 Assignment 3\n",
        "\n",
        "Name: Danmeng Cui\n",
        "\n",
        "Student ID: 1004004356"
      ]
    },
    {
      "cell_type": "code",
      "metadata": {
        "colab": {
          "base_uri": "https://localhost:8080/"
        },
        "id": "cQHbnlbUcX6I",
        "outputId": "edf79e13-e966-4c6f-9baa-872840e0cbeb"
      },
      "source": [
        "!pip install numpy\n",
        "!pip install pandas\n",
        "!pip install sklearn\n",
        "!pip install unidecode\n"
      ],
      "execution_count": 1,
      "outputs": [
        {
          "output_type": "stream",
          "name": "stdout",
          "text": [
            "Requirement already satisfied: numpy in /usr/local/lib/python3.7/dist-packages (1.19.5)\n",
            "Requirement already satisfied: pandas in /usr/local/lib/python3.7/dist-packages (1.1.5)\n",
            "Requirement already satisfied: pytz>=2017.2 in /usr/local/lib/python3.7/dist-packages (from pandas) (2018.9)\n",
            "Requirement already satisfied: python-dateutil>=2.7.3 in /usr/local/lib/python3.7/dist-packages (from pandas) (2.8.2)\n",
            "Requirement already satisfied: numpy>=1.15.4 in /usr/local/lib/python3.7/dist-packages (from pandas) (1.19.5)\n",
            "Requirement already satisfied: six>=1.5 in /usr/local/lib/python3.7/dist-packages (from python-dateutil>=2.7.3->pandas) (1.15.0)\n",
            "Requirement already satisfied: sklearn in /usr/local/lib/python3.7/dist-packages (0.0)\n",
            "Requirement already satisfied: scikit-learn in /usr/local/lib/python3.7/dist-packages (from sklearn) (1.0.1)\n",
            "Requirement already satisfied: numpy>=1.14.6 in /usr/local/lib/python3.7/dist-packages (from scikit-learn->sklearn) (1.19.5)\n",
            "Requirement already satisfied: threadpoolctl>=2.0.0 in /usr/local/lib/python3.7/dist-packages (from scikit-learn->sklearn) (3.0.0)\n",
            "Requirement already satisfied: scipy>=1.1.0 in /usr/local/lib/python3.7/dist-packages (from scikit-learn->sklearn) (1.4.1)\n",
            "Requirement already satisfied: joblib>=0.11 in /usr/local/lib/python3.7/dist-packages (from scikit-learn->sklearn) (1.1.0)\n",
            "Collecting unidecode\n",
            "  Downloading Unidecode-1.3.2-py3-none-any.whl (235 kB)\n",
            "\u001b[K     |████████████████████████████████| 235 kB 5.3 MB/s \n",
            "\u001b[?25hInstalling collected packages: unidecode\n",
            "Successfully installed unidecode-1.3.2\n"
          ]
        }
      ]
    },
    {
      "cell_type": "markdown",
      "metadata": {
        "id": "PrugoVpIhtx2"
      },
      "source": [
        "#1. Data Cleaning\n",
        "\n",
        "**1.1 Data cleaning for sentiment_analysis.csv**"
      ]
    },
    {
      "cell_type": "code",
      "metadata": {
        "colab": {
          "base_uri": "https://localhost:8080/",
          "height": 419
        },
        "id": "RdN_oCGoca0D",
        "outputId": "149859ce-0394-4dbd-b61b-ab13ac497c25"
      },
      "source": [
        "import pandas as pd\n",
        "\n",
        "df_sent = pd.read_csv(\"/content/sentiment_analysis.csv\")\n",
        "df_sent"
      ],
      "execution_count": 2,
      "outputs": [
        {
          "output_type": "execute_result",
          "data": {
            "text/html": [
              "<div>\n",
              "<style scoped>\n",
              "    .dataframe tbody tr th:only-of-type {\n",
              "        vertical-align: middle;\n",
              "    }\n",
              "\n",
              "    .dataframe tbody tr th {\n",
              "        vertical-align: top;\n",
              "    }\n",
              "\n",
              "    .dataframe thead th {\n",
              "        text-align: right;\n",
              "    }\n",
              "</style>\n",
              "<table border=\"1\" class=\"dataframe\">\n",
              "  <thead>\n",
              "    <tr style=\"text-align: right;\">\n",
              "      <th></th>\n",
              "      <th>ID</th>\n",
              "      <th>text</th>\n",
              "      <th>label</th>\n",
              "    </tr>\n",
              "  </thead>\n",
              "  <tbody>\n",
              "    <tr>\n",
              "      <th>0</th>\n",
              "      <td>7.680980e+17</td>\n",
              "      <td>Josh Jenkins is looking forward to TAB Breeder...</td>\n",
              "      <td>1</td>\n",
              "    </tr>\n",
              "    <tr>\n",
              "      <th>1</th>\n",
              "      <td>7.680980e+17</td>\n",
              "      <td>RT @MianUsmanJaved: Congratulations Pakistan o...</td>\n",
              "      <td>1</td>\n",
              "    </tr>\n",
              "    <tr>\n",
              "      <th>2</th>\n",
              "      <td>7.680980e+17</td>\n",
              "      <td>RT @PEPalerts: This September, @YESmag is taki...</td>\n",
              "      <td>1</td>\n",
              "    </tr>\n",
              "    <tr>\n",
              "      <th>3</th>\n",
              "      <td>7.680980e+17</td>\n",
              "      <td>RT @david_gaibis: Newly painted walls, thanks ...</td>\n",
              "      <td>1</td>\n",
              "    </tr>\n",
              "    <tr>\n",
              "      <th>4</th>\n",
              "      <td>7.680980e+17</td>\n",
              "      <td>RT @CedricFeschotte: Excited to announce: as o...</td>\n",
              "      <td>1</td>\n",
              "    </tr>\n",
              "    <tr>\n",
              "      <th>...</th>\n",
              "      <td>...</td>\n",
              "      <td>...</td>\n",
              "      <td>...</td>\n",
              "    </tr>\n",
              "    <tr>\n",
              "      <th>550386</th>\n",
              "      <td>8.046170e+17</td>\n",
              "      <td>@goddesses_o I can't stop watching her...mm. M...</td>\n",
              "      <td>0</td>\n",
              "    </tr>\n",
              "    <tr>\n",
              "      <th>550387</th>\n",
              "      <td>8.046180e+17</td>\n",
              "      <td>Poor old Tom Odell doesn't look like he would ...</td>\n",
              "      <td>0</td>\n",
              "    </tr>\n",
              "    <tr>\n",
              "      <th>550388</th>\n",
              "      <td>8.046180e+17</td>\n",
              "      <td>#antsmasher I smashed  7 ants in this awesome ...</td>\n",
              "      <td>1</td>\n",
              "    </tr>\n",
              "    <tr>\n",
              "      <th>550389</th>\n",
              "      <td>8.046180e+17</td>\n",
              "      <td>@LizHudston @KymWyllie @Evasmiless @meanBok @l...</td>\n",
              "      <td>1</td>\n",
              "    </tr>\n",
              "    <tr>\n",
              "      <th>550390</th>\n",
              "      <td>8.046190e+17</td>\n",
              "      <td>Bixbeat Mixtape Vol.2 is here with great artis...</td>\n",
              "      <td>1</td>\n",
              "    </tr>\n",
              "  </tbody>\n",
              "</table>\n",
              "<p>550391 rows × 3 columns</p>\n",
              "</div>"
            ],
            "text/plain": [
              "                  ID                                               text  label\n",
              "0       7.680980e+17  Josh Jenkins is looking forward to TAB Breeder...      1\n",
              "1       7.680980e+17  RT @MianUsmanJaved: Congratulations Pakistan o...      1\n",
              "2       7.680980e+17  RT @PEPalerts: This September, @YESmag is taki...      1\n",
              "3       7.680980e+17  RT @david_gaibis: Newly painted walls, thanks ...      1\n",
              "4       7.680980e+17  RT @CedricFeschotte: Excited to announce: as o...      1\n",
              "...              ...                                                ...    ...\n",
              "550386  8.046170e+17  @goddesses_o I can't stop watching her...mm. M...      0\n",
              "550387  8.046180e+17  Poor old Tom Odell doesn't look like he would ...      0\n",
              "550388  8.046180e+17  #antsmasher I smashed  7 ants in this awesome ...      1\n",
              "550389  8.046180e+17  @LizHudston @KymWyllie @Evasmiless @meanBok @l...      1\n",
              "550390  8.046190e+17  Bixbeat Mixtape Vol.2 is here with great artis...      1\n",
              "\n",
              "[550391 rows x 3 columns]"
            ]
          },
          "metadata": {},
          "execution_count": 2
        }
      ]
    },
    {
      "cell_type": "code",
      "metadata": {
        "colab": {
          "base_uri": "https://localhost:8080/",
          "height": 419
        },
        "id": "StEAwDvZtOj-",
        "outputId": "90c5eb5f-205a-418b-b87e-5ac26cb91782"
      },
      "source": [
        "# Remove URL\n",
        "import re\n",
        "df_sent['text']=df_sent.apply(lambda x: re.sub(r'https?:\\/\\/\\S*', '', x['text']), axis=1)\n",
        "df_sent"
      ],
      "execution_count": 3,
      "outputs": [
        {
          "output_type": "execute_result",
          "data": {
            "text/html": [
              "<div>\n",
              "<style scoped>\n",
              "    .dataframe tbody tr th:only-of-type {\n",
              "        vertical-align: middle;\n",
              "    }\n",
              "\n",
              "    .dataframe tbody tr th {\n",
              "        vertical-align: top;\n",
              "    }\n",
              "\n",
              "    .dataframe thead th {\n",
              "        text-align: right;\n",
              "    }\n",
              "</style>\n",
              "<table border=\"1\" class=\"dataframe\">\n",
              "  <thead>\n",
              "    <tr style=\"text-align: right;\">\n",
              "      <th></th>\n",
              "      <th>ID</th>\n",
              "      <th>text</th>\n",
              "      <th>label</th>\n",
              "    </tr>\n",
              "  </thead>\n",
              "  <tbody>\n",
              "    <tr>\n",
              "      <th>0</th>\n",
              "      <td>7.680980e+17</td>\n",
              "      <td>Josh Jenkins is looking forward to TAB Breeder...</td>\n",
              "      <td>1</td>\n",
              "    </tr>\n",
              "    <tr>\n",
              "      <th>1</th>\n",
              "      <td>7.680980e+17</td>\n",
              "      <td>RT @MianUsmanJaved: Congratulations Pakistan o...</td>\n",
              "      <td>1</td>\n",
              "    </tr>\n",
              "    <tr>\n",
              "      <th>2</th>\n",
              "      <td>7.680980e+17</td>\n",
              "      <td>RT @PEPalerts: This September, @YESmag is taki...</td>\n",
              "      <td>1</td>\n",
              "    </tr>\n",
              "    <tr>\n",
              "      <th>3</th>\n",
              "      <td>7.680980e+17</td>\n",
              "      <td>RT @david_gaibis: Newly painted walls, thanks ...</td>\n",
              "      <td>1</td>\n",
              "    </tr>\n",
              "    <tr>\n",
              "      <th>4</th>\n",
              "      <td>7.680980e+17</td>\n",
              "      <td>RT @CedricFeschotte: Excited to announce: as o...</td>\n",
              "      <td>1</td>\n",
              "    </tr>\n",
              "    <tr>\n",
              "      <th>...</th>\n",
              "      <td>...</td>\n",
              "      <td>...</td>\n",
              "      <td>...</td>\n",
              "    </tr>\n",
              "    <tr>\n",
              "      <th>550386</th>\n",
              "      <td>8.046170e+17</td>\n",
              "      <td>@goddesses_o I can't stop watching her...mm. M...</td>\n",
              "      <td>0</td>\n",
              "    </tr>\n",
              "    <tr>\n",
              "      <th>550387</th>\n",
              "      <td>8.046180e+17</td>\n",
              "      <td>Poor old Tom Odell doesn't look like he would ...</td>\n",
              "      <td>0</td>\n",
              "    </tr>\n",
              "    <tr>\n",
              "      <th>550388</th>\n",
              "      <td>8.046180e+17</td>\n",
              "      <td>#antsmasher I smashed  7 ants in this awesome ...</td>\n",
              "      <td>1</td>\n",
              "    </tr>\n",
              "    <tr>\n",
              "      <th>550389</th>\n",
              "      <td>8.046180e+17</td>\n",
              "      <td>@LizHudston @KymWyllie @Evasmiless @meanBok @l...</td>\n",
              "      <td>1</td>\n",
              "    </tr>\n",
              "    <tr>\n",
              "      <th>550390</th>\n",
              "      <td>8.046190e+17</td>\n",
              "      <td>Bixbeat Mixtape Vol.2 is here with great artis...</td>\n",
              "      <td>1</td>\n",
              "    </tr>\n",
              "  </tbody>\n",
              "</table>\n",
              "<p>550391 rows × 3 columns</p>\n",
              "</div>"
            ],
            "text/plain": [
              "                  ID                                               text  label\n",
              "0       7.680980e+17  Josh Jenkins is looking forward to TAB Breeder...      1\n",
              "1       7.680980e+17  RT @MianUsmanJaved: Congratulations Pakistan o...      1\n",
              "2       7.680980e+17  RT @PEPalerts: This September, @YESmag is taki...      1\n",
              "3       7.680980e+17  RT @david_gaibis: Newly painted walls, thanks ...      1\n",
              "4       7.680980e+17  RT @CedricFeschotte: Excited to announce: as o...      1\n",
              "...              ...                                                ...    ...\n",
              "550386  8.046170e+17  @goddesses_o I can't stop watching her...mm. M...      0\n",
              "550387  8.046180e+17  Poor old Tom Odell doesn't look like he would ...      0\n",
              "550388  8.046180e+17  #antsmasher I smashed  7 ants in this awesome ...      1\n",
              "550389  8.046180e+17  @LizHudston @KymWyllie @Evasmiless @meanBok @l...      1\n",
              "550390  8.046190e+17  Bixbeat Mixtape Vol.2 is here with great artis...      1\n",
              "\n",
              "[550391 rows x 3 columns]"
            ]
          },
          "metadata": {},
          "execution_count": 3
        }
      ]
    },
    {
      "cell_type": "code",
      "metadata": {
        "colab": {
          "base_uri": "https://localhost:8080/",
          "height": 419
        },
        "id": "HrYNCWPrrbbV",
        "outputId": "3ad780cd-52ca-40f0-d50e-6e6cb0ec8c0b"
      },
      "source": [
        "#Replace special characters with ASCII equivalent\n",
        "from unidecode import unidecode\n",
        "df_sent['token']=df_sent.apply(lambda row: unidecode(row['text']), axis=1)\n",
        "df_sent"
      ],
      "execution_count": 4,
      "outputs": [
        {
          "output_type": "execute_result",
          "data": {
            "text/html": [
              "<div>\n",
              "<style scoped>\n",
              "    .dataframe tbody tr th:only-of-type {\n",
              "        vertical-align: middle;\n",
              "    }\n",
              "\n",
              "    .dataframe tbody tr th {\n",
              "        vertical-align: top;\n",
              "    }\n",
              "\n",
              "    .dataframe thead th {\n",
              "        text-align: right;\n",
              "    }\n",
              "</style>\n",
              "<table border=\"1\" class=\"dataframe\">\n",
              "  <thead>\n",
              "    <tr style=\"text-align: right;\">\n",
              "      <th></th>\n",
              "      <th>ID</th>\n",
              "      <th>text</th>\n",
              "      <th>label</th>\n",
              "      <th>token</th>\n",
              "    </tr>\n",
              "  </thead>\n",
              "  <tbody>\n",
              "    <tr>\n",
              "      <th>0</th>\n",
              "      <td>7.680980e+17</td>\n",
              "      <td>Josh Jenkins is looking forward to TAB Breeder...</td>\n",
              "      <td>1</td>\n",
              "      <td>Josh Jenkins is looking forward to TAB Breeder...</td>\n",
              "    </tr>\n",
              "    <tr>\n",
              "      <th>1</th>\n",
              "      <td>7.680980e+17</td>\n",
              "      <td>RT @MianUsmanJaved: Congratulations Pakistan o...</td>\n",
              "      <td>1</td>\n",
              "      <td>RT @MianUsmanJaved: Congratulations Pakistan o...</td>\n",
              "    </tr>\n",
              "    <tr>\n",
              "      <th>2</th>\n",
              "      <td>7.680980e+17</td>\n",
              "      <td>RT @PEPalerts: This September, @YESmag is taki...</td>\n",
              "      <td>1</td>\n",
              "      <td>RT @PEPalerts: This September, @YESmag is taki...</td>\n",
              "    </tr>\n",
              "    <tr>\n",
              "      <th>3</th>\n",
              "      <td>7.680980e+17</td>\n",
              "      <td>RT @david_gaibis: Newly painted walls, thanks ...</td>\n",
              "      <td>1</td>\n",
              "      <td>RT @david_gaibis: Newly painted walls, thanks ...</td>\n",
              "    </tr>\n",
              "    <tr>\n",
              "      <th>4</th>\n",
              "      <td>7.680980e+17</td>\n",
              "      <td>RT @CedricFeschotte: Excited to announce: as o...</td>\n",
              "      <td>1</td>\n",
              "      <td>RT @CedricFeschotte: Excited to announce: as o...</td>\n",
              "    </tr>\n",
              "    <tr>\n",
              "      <th>...</th>\n",
              "      <td>...</td>\n",
              "      <td>...</td>\n",
              "      <td>...</td>\n",
              "      <td>...</td>\n",
              "    </tr>\n",
              "    <tr>\n",
              "      <th>550386</th>\n",
              "      <td>8.046170e+17</td>\n",
              "      <td>@goddesses_o I can't stop watching her...mm. M...</td>\n",
              "      <td>0</td>\n",
              "      <td>@goddesses_o I can't stop watching her...mm. M...</td>\n",
              "    </tr>\n",
              "    <tr>\n",
              "      <th>550387</th>\n",
              "      <td>8.046180e+17</td>\n",
              "      <td>Poor old Tom Odell doesn't look like he would ...</td>\n",
              "      <td>0</td>\n",
              "      <td>Poor old Tom Odell doesn't look like he would ...</td>\n",
              "    </tr>\n",
              "    <tr>\n",
              "      <th>550388</th>\n",
              "      <td>8.046180e+17</td>\n",
              "      <td>#antsmasher I smashed  7 ants in this awesome ...</td>\n",
              "      <td>1</td>\n",
              "      <td>#antsmasher I smashed  7 ants in this awesome ...</td>\n",
              "    </tr>\n",
              "    <tr>\n",
              "      <th>550389</th>\n",
              "      <td>8.046180e+17</td>\n",
              "      <td>@LizHudston @KymWyllie @Evasmiless @meanBok @l...</td>\n",
              "      <td>1</td>\n",
              "      <td>@LizHudston @KymWyllie @Evasmiless @meanBok @l...</td>\n",
              "    </tr>\n",
              "    <tr>\n",
              "      <th>550390</th>\n",
              "      <td>8.046190e+17</td>\n",
              "      <td>Bixbeat Mixtape Vol.2 is here with great artis...</td>\n",
              "      <td>1</td>\n",
              "      <td>Bixbeat Mixtape Vol.2 is here with great artis...</td>\n",
              "    </tr>\n",
              "  </tbody>\n",
              "</table>\n",
              "<p>550391 rows × 4 columns</p>\n",
              "</div>"
            ],
            "text/plain": [
              "                  ID  ...                                              token\n",
              "0       7.680980e+17  ...  Josh Jenkins is looking forward to TAB Breeder...\n",
              "1       7.680980e+17  ...  RT @MianUsmanJaved: Congratulations Pakistan o...\n",
              "2       7.680980e+17  ...  RT @PEPalerts: This September, @YESmag is taki...\n",
              "3       7.680980e+17  ...  RT @david_gaibis: Newly painted walls, thanks ...\n",
              "4       7.680980e+17  ...  RT @CedricFeschotte: Excited to announce: as o...\n",
              "...              ...  ...                                                ...\n",
              "550386  8.046170e+17  ...  @goddesses_o I can't stop watching her...mm. M...\n",
              "550387  8.046180e+17  ...  Poor old Tom Odell doesn't look like he would ...\n",
              "550388  8.046180e+17  ...  #antsmasher I smashed  7 ants in this awesome ...\n",
              "550389  8.046180e+17  ...  @LizHudston @KymWyllie @Evasmiless @meanBok @l...\n",
              "550390  8.046190e+17  ...  Bixbeat Mixtape Vol.2 is here with great artis...\n",
              "\n",
              "[550391 rows x 4 columns]"
            ]
          },
          "metadata": {},
          "execution_count": 4
        }
      ]
    },
    {
      "cell_type": "code",
      "metadata": {
        "colab": {
          "base_uri": "https://localhost:8080/"
        },
        "id": "F7Mo9TlMmBkl",
        "outputId": "28382f05-2113-4d2c-8048-255b5113b3d7"
      },
      "source": [
        "#Tokenize the sentences, split the sentences into words.\n",
        "import nltk\n",
        "nltk.download('punkt')\n",
        "from nltk.tokenize import word_tokenize\n",
        "df_sent['token']=df_sent.apply(lambda row: nltk.word_tokenize(row['token']), axis=1)"
      ],
      "execution_count": 5,
      "outputs": [
        {
          "output_type": "stream",
          "name": "stdout",
          "text": [
            "[nltk_data] Downloading package punkt to /root/nltk_data...\n",
            "[nltk_data]   Unzipping tokenizers/punkt.zip.\n"
          ]
        }
      ]
    },
    {
      "cell_type": "code",
      "metadata": {
        "id": "XjbLALiyozgZ",
        "colab": {
          "base_uri": "https://localhost:8080/",
          "height": 419
        },
        "outputId": "a56cbbb2-d5a7-4ace-e508-e67ff235a7b6"
      },
      "source": [
        "#Filter Out Punctuation\n",
        "df_sent['token']=df_sent.apply(lambda row: ([word for word in row['token'] if word.isalpha()]), axis=1)\n",
        "df_sent"
      ],
      "execution_count": 6,
      "outputs": [
        {
          "output_type": "execute_result",
          "data": {
            "text/html": [
              "<div>\n",
              "<style scoped>\n",
              "    .dataframe tbody tr th:only-of-type {\n",
              "        vertical-align: middle;\n",
              "    }\n",
              "\n",
              "    .dataframe tbody tr th {\n",
              "        vertical-align: top;\n",
              "    }\n",
              "\n",
              "    .dataframe thead th {\n",
              "        text-align: right;\n",
              "    }\n",
              "</style>\n",
              "<table border=\"1\" class=\"dataframe\">\n",
              "  <thead>\n",
              "    <tr style=\"text-align: right;\">\n",
              "      <th></th>\n",
              "      <th>ID</th>\n",
              "      <th>text</th>\n",
              "      <th>label</th>\n",
              "      <th>token</th>\n",
              "    </tr>\n",
              "  </thead>\n",
              "  <tbody>\n",
              "    <tr>\n",
              "      <th>0</th>\n",
              "      <td>7.680980e+17</td>\n",
              "      <td>Josh Jenkins is looking forward to TAB Breeder...</td>\n",
              "      <td>1</td>\n",
              "      <td>[Josh, Jenkins, is, looking, forward, to, TAB,...</td>\n",
              "    </tr>\n",
              "    <tr>\n",
              "      <th>1</th>\n",
              "      <td>7.680980e+17</td>\n",
              "      <td>RT @MianUsmanJaved: Congratulations Pakistan o...</td>\n",
              "      <td>1</td>\n",
              "      <td>[RT, MianUsmanJaved, Congratulations, Pakistan...</td>\n",
              "    </tr>\n",
              "    <tr>\n",
              "      <th>2</th>\n",
              "      <td>7.680980e+17</td>\n",
              "      <td>RT @PEPalerts: This September, @YESmag is taki...</td>\n",
              "      <td>1</td>\n",
              "      <td>[RT, PEPalerts, This, September, YESmag, is, t...</td>\n",
              "    </tr>\n",
              "    <tr>\n",
              "      <th>3</th>\n",
              "      <td>7.680980e+17</td>\n",
              "      <td>RT @david_gaibis: Newly painted walls, thanks ...</td>\n",
              "      <td>1</td>\n",
              "      <td>[RT, Newly, painted, walls, thanks, a, million...</td>\n",
              "    </tr>\n",
              "    <tr>\n",
              "      <th>4</th>\n",
              "      <td>7.680980e+17</td>\n",
              "      <td>RT @CedricFeschotte: Excited to announce: as o...</td>\n",
              "      <td>1</td>\n",
              "      <td>[RT, CedricFeschotte, Excited, to, announce, a...</td>\n",
              "    </tr>\n",
              "    <tr>\n",
              "      <th>...</th>\n",
              "      <td>...</td>\n",
              "      <td>...</td>\n",
              "      <td>...</td>\n",
              "      <td>...</td>\n",
              "    </tr>\n",
              "    <tr>\n",
              "      <th>550386</th>\n",
              "      <td>8.046170e+17</td>\n",
              "      <td>@goddesses_o I can't stop watching her...mm. M...</td>\n",
              "      <td>0</td>\n",
              "      <td>[I, ca, stop, watching, her, mm, More]</td>\n",
              "    </tr>\n",
              "    <tr>\n",
              "      <th>550387</th>\n",
              "      <td>8.046180e+17</td>\n",
              "      <td>Poor old Tom Odell doesn't look like he would ...</td>\n",
              "      <td>0</td>\n",
              "      <td>[Poor, old, Tom, Odell, does, look, like, he, ...</td>\n",
              "    </tr>\n",
              "    <tr>\n",
              "      <th>550388</th>\n",
              "      <td>8.046180e+17</td>\n",
              "      <td>#antsmasher I smashed  7 ants in this awesome ...</td>\n",
              "      <td>1</td>\n",
              "      <td>[antsmasher, I, smashed, ants, in, this, aweso...</td>\n",
              "    </tr>\n",
              "    <tr>\n",
              "      <th>550389</th>\n",
              "      <td>8.046180e+17</td>\n",
              "      <td>@LizHudston @KymWyllie @Evasmiless @meanBok @l...</td>\n",
              "      <td>1</td>\n",
              "      <td>[LizHudston, KymWyllie, Evasmiless, meanBok, m...</td>\n",
              "    </tr>\n",
              "    <tr>\n",
              "      <th>550390</th>\n",
              "      <td>8.046190e+17</td>\n",
              "      <td>Bixbeat Mixtape Vol.2 is here with great artis...</td>\n",
              "      <td>1</td>\n",
              "      <td>[Bixbeat, Mixtape, is, here, with, great, arti...</td>\n",
              "    </tr>\n",
              "  </tbody>\n",
              "</table>\n",
              "<p>550391 rows × 4 columns</p>\n",
              "</div>"
            ],
            "text/plain": [
              "                  ID  ...                                              token\n",
              "0       7.680980e+17  ...  [Josh, Jenkins, is, looking, forward, to, TAB,...\n",
              "1       7.680980e+17  ...  [RT, MianUsmanJaved, Congratulations, Pakistan...\n",
              "2       7.680980e+17  ...  [RT, PEPalerts, This, September, YESmag, is, t...\n",
              "3       7.680980e+17  ...  [RT, Newly, painted, walls, thanks, a, million...\n",
              "4       7.680980e+17  ...  [RT, CedricFeschotte, Excited, to, announce, a...\n",
              "...              ...  ...                                                ...\n",
              "550386  8.046170e+17  ...             [I, ca, stop, watching, her, mm, More]\n",
              "550387  8.046180e+17  ...  [Poor, old, Tom, Odell, does, look, like, he, ...\n",
              "550388  8.046180e+17  ...  [antsmasher, I, smashed, ants, in, this, aweso...\n",
              "550389  8.046180e+17  ...  [LizHudston, KymWyllie, Evasmiless, meanBok, m...\n",
              "550390  8.046190e+17  ...  [Bixbeat, Mixtape, is, here, with, great, arti...\n",
              "\n",
              "[550391 rows x 4 columns]"
            ]
          },
          "metadata": {},
          "execution_count": 6
        }
      ]
    },
    {
      "cell_type": "code",
      "metadata": {
        "id": "P8UJReRWutFk",
        "colab": {
          "base_uri": "https://localhost:8080/",
          "height": 419
        },
        "outputId": "31296100-e587-4044-fb47-fadfd2370bfc"
      },
      "source": [
        "#convert all the uppercase words into lowercase words\n",
        "df_sent['token']=df_sent.apply(lambda row: [word.lower() for word in row['token']], axis=1)\n",
        "df_sent"
      ],
      "execution_count": 7,
      "outputs": [
        {
          "output_type": "execute_result",
          "data": {
            "text/html": [
              "<div>\n",
              "<style scoped>\n",
              "    .dataframe tbody tr th:only-of-type {\n",
              "        vertical-align: middle;\n",
              "    }\n",
              "\n",
              "    .dataframe tbody tr th {\n",
              "        vertical-align: top;\n",
              "    }\n",
              "\n",
              "    .dataframe thead th {\n",
              "        text-align: right;\n",
              "    }\n",
              "</style>\n",
              "<table border=\"1\" class=\"dataframe\">\n",
              "  <thead>\n",
              "    <tr style=\"text-align: right;\">\n",
              "      <th></th>\n",
              "      <th>ID</th>\n",
              "      <th>text</th>\n",
              "      <th>label</th>\n",
              "      <th>token</th>\n",
              "    </tr>\n",
              "  </thead>\n",
              "  <tbody>\n",
              "    <tr>\n",
              "      <th>0</th>\n",
              "      <td>7.680980e+17</td>\n",
              "      <td>Josh Jenkins is looking forward to TAB Breeder...</td>\n",
              "      <td>1</td>\n",
              "      <td>[josh, jenkins, is, looking, forward, to, tab,...</td>\n",
              "    </tr>\n",
              "    <tr>\n",
              "      <th>1</th>\n",
              "      <td>7.680980e+17</td>\n",
              "      <td>RT @MianUsmanJaved: Congratulations Pakistan o...</td>\n",
              "      <td>1</td>\n",
              "      <td>[rt, mianusmanjaved, congratulations, pakistan...</td>\n",
              "    </tr>\n",
              "    <tr>\n",
              "      <th>2</th>\n",
              "      <td>7.680980e+17</td>\n",
              "      <td>RT @PEPalerts: This September, @YESmag is taki...</td>\n",
              "      <td>1</td>\n",
              "      <td>[rt, pepalerts, this, september, yesmag, is, t...</td>\n",
              "    </tr>\n",
              "    <tr>\n",
              "      <th>3</th>\n",
              "      <td>7.680980e+17</td>\n",
              "      <td>RT @david_gaibis: Newly painted walls, thanks ...</td>\n",
              "      <td>1</td>\n",
              "      <td>[rt, newly, painted, walls, thanks, a, million...</td>\n",
              "    </tr>\n",
              "    <tr>\n",
              "      <th>4</th>\n",
              "      <td>7.680980e+17</td>\n",
              "      <td>RT @CedricFeschotte: Excited to announce: as o...</td>\n",
              "      <td>1</td>\n",
              "      <td>[rt, cedricfeschotte, excited, to, announce, a...</td>\n",
              "    </tr>\n",
              "    <tr>\n",
              "      <th>...</th>\n",
              "      <td>...</td>\n",
              "      <td>...</td>\n",
              "      <td>...</td>\n",
              "      <td>...</td>\n",
              "    </tr>\n",
              "    <tr>\n",
              "      <th>550386</th>\n",
              "      <td>8.046170e+17</td>\n",
              "      <td>@goddesses_o I can't stop watching her...mm. M...</td>\n",
              "      <td>0</td>\n",
              "      <td>[i, ca, stop, watching, her, mm, more]</td>\n",
              "    </tr>\n",
              "    <tr>\n",
              "      <th>550387</th>\n",
              "      <td>8.046180e+17</td>\n",
              "      <td>Poor old Tom Odell doesn't look like he would ...</td>\n",
              "      <td>0</td>\n",
              "      <td>[poor, old, tom, odell, does, look, like, he, ...</td>\n",
              "    </tr>\n",
              "    <tr>\n",
              "      <th>550388</th>\n",
              "      <td>8.046180e+17</td>\n",
              "      <td>#antsmasher I smashed  7 ants in this awesome ...</td>\n",
              "      <td>1</td>\n",
              "      <td>[antsmasher, i, smashed, ants, in, this, aweso...</td>\n",
              "    </tr>\n",
              "    <tr>\n",
              "      <th>550389</th>\n",
              "      <td>8.046180e+17</td>\n",
              "      <td>@LizHudston @KymWyllie @Evasmiless @meanBok @l...</td>\n",
              "      <td>1</td>\n",
              "      <td>[lizhudston, kymwyllie, evasmiless, meanbok, m...</td>\n",
              "    </tr>\n",
              "    <tr>\n",
              "      <th>550390</th>\n",
              "      <td>8.046190e+17</td>\n",
              "      <td>Bixbeat Mixtape Vol.2 is here with great artis...</td>\n",
              "      <td>1</td>\n",
              "      <td>[bixbeat, mixtape, is, here, with, great, arti...</td>\n",
              "    </tr>\n",
              "  </tbody>\n",
              "</table>\n",
              "<p>550391 rows × 4 columns</p>\n",
              "</div>"
            ],
            "text/plain": [
              "                  ID  ...                                              token\n",
              "0       7.680980e+17  ...  [josh, jenkins, is, looking, forward, to, tab,...\n",
              "1       7.680980e+17  ...  [rt, mianusmanjaved, congratulations, pakistan...\n",
              "2       7.680980e+17  ...  [rt, pepalerts, this, september, yesmag, is, t...\n",
              "3       7.680980e+17  ...  [rt, newly, painted, walls, thanks, a, million...\n",
              "4       7.680980e+17  ...  [rt, cedricfeschotte, excited, to, announce, a...\n",
              "...              ...  ...                                                ...\n",
              "550386  8.046170e+17  ...             [i, ca, stop, watching, her, mm, more]\n",
              "550387  8.046180e+17  ...  [poor, old, tom, odell, does, look, like, he, ...\n",
              "550388  8.046180e+17  ...  [antsmasher, i, smashed, ants, in, this, aweso...\n",
              "550389  8.046180e+17  ...  [lizhudston, kymwyllie, evasmiless, meanbok, m...\n",
              "550390  8.046190e+17  ...  [bixbeat, mixtape, is, here, with, great, arti...\n",
              "\n",
              "[550391 rows x 4 columns]"
            ]
          },
          "metadata": {},
          "execution_count": 7
        }
      ]
    },
    {
      "cell_type": "code",
      "metadata": {
        "id": "OOb9X_m9wUHG",
        "colab": {
          "base_uri": "https://localhost:8080/",
          "height": 490
        },
        "outputId": "cd41cc66-313d-4fe7-b848-d2185e80a4cf"
      },
      "source": [
        "#Remove stop words\n",
        "nltk.download('stopwords')\n",
        "from nltk.corpus import stopwords\n",
        "stop_words = stopwords.words('english')\n",
        "print(stop_words) #The stop words we wanna delete\n",
        "\n",
        "df_sent['token']=df_sent.apply(lambda row: [str(word) for word in row['token'] if not word in stop_words], axis=1)\n",
        "df_sent"
      ],
      "execution_count": 8,
      "outputs": [
        {
          "output_type": "stream",
          "name": "stdout",
          "text": [
            "[nltk_data] Downloading package stopwords to /root/nltk_data...\n",
            "[nltk_data]   Unzipping corpora/stopwords.zip.\n",
            "['i', 'me', 'my', 'myself', 'we', 'our', 'ours', 'ourselves', 'you', \"you're\", \"you've\", \"you'll\", \"you'd\", 'your', 'yours', 'yourself', 'yourselves', 'he', 'him', 'his', 'himself', 'she', \"she's\", 'her', 'hers', 'herself', 'it', \"it's\", 'its', 'itself', 'they', 'them', 'their', 'theirs', 'themselves', 'what', 'which', 'who', 'whom', 'this', 'that', \"that'll\", 'these', 'those', 'am', 'is', 'are', 'was', 'were', 'be', 'been', 'being', 'have', 'has', 'had', 'having', 'do', 'does', 'did', 'doing', 'a', 'an', 'the', 'and', 'but', 'if', 'or', 'because', 'as', 'until', 'while', 'of', 'at', 'by', 'for', 'with', 'about', 'against', 'between', 'into', 'through', 'during', 'before', 'after', 'above', 'below', 'to', 'from', 'up', 'down', 'in', 'out', 'on', 'off', 'over', 'under', 'again', 'further', 'then', 'once', 'here', 'there', 'when', 'where', 'why', 'how', 'all', 'any', 'both', 'each', 'few', 'more', 'most', 'other', 'some', 'such', 'no', 'nor', 'not', 'only', 'own', 'same', 'so', 'than', 'too', 'very', 's', 't', 'can', 'will', 'just', 'don', \"don't\", 'should', \"should've\", 'now', 'd', 'll', 'm', 'o', 're', 've', 'y', 'ain', 'aren', \"aren't\", 'couldn', \"couldn't\", 'didn', \"didn't\", 'doesn', \"doesn't\", 'hadn', \"hadn't\", 'hasn', \"hasn't\", 'haven', \"haven't\", 'isn', \"isn't\", 'ma', 'mightn', \"mightn't\", 'mustn', \"mustn't\", 'needn', \"needn't\", 'shan', \"shan't\", 'shouldn', \"shouldn't\", 'wasn', \"wasn't\", 'weren', \"weren't\", 'won', \"won't\", 'wouldn', \"wouldn't\"]\n"
          ]
        },
        {
          "output_type": "execute_result",
          "data": {
            "text/html": [
              "<div>\n",
              "<style scoped>\n",
              "    .dataframe tbody tr th:only-of-type {\n",
              "        vertical-align: middle;\n",
              "    }\n",
              "\n",
              "    .dataframe tbody tr th {\n",
              "        vertical-align: top;\n",
              "    }\n",
              "\n",
              "    .dataframe thead th {\n",
              "        text-align: right;\n",
              "    }\n",
              "</style>\n",
              "<table border=\"1\" class=\"dataframe\">\n",
              "  <thead>\n",
              "    <tr style=\"text-align: right;\">\n",
              "      <th></th>\n",
              "      <th>ID</th>\n",
              "      <th>text</th>\n",
              "      <th>label</th>\n",
              "      <th>token</th>\n",
              "    </tr>\n",
              "  </thead>\n",
              "  <tbody>\n",
              "    <tr>\n",
              "      <th>0</th>\n",
              "      <td>7.680980e+17</td>\n",
              "      <td>Josh Jenkins is looking forward to TAB Breeder...</td>\n",
              "      <td>1</td>\n",
              "      <td>[josh, jenkins, looking, forward, tab, breeder...</td>\n",
              "    </tr>\n",
              "    <tr>\n",
              "      <th>1</th>\n",
              "      <td>7.680980e+17</td>\n",
              "      <td>RT @MianUsmanJaved: Congratulations Pakistan o...</td>\n",
              "      <td>1</td>\n",
              "      <td>[rt, mianusmanjaved, congratulations, pakistan...</td>\n",
              "    </tr>\n",
              "    <tr>\n",
              "      <th>2</th>\n",
              "      <td>7.680980e+17</td>\n",
              "      <td>RT @PEPalerts: This September, @YESmag is taki...</td>\n",
              "      <td>1</td>\n",
              "      <td>[rt, pepalerts, september, yesmag, taking, mai...</td>\n",
              "    </tr>\n",
              "    <tr>\n",
              "      <th>3</th>\n",
              "      <td>7.680980e+17</td>\n",
              "      <td>RT @david_gaibis: Newly painted walls, thanks ...</td>\n",
              "      <td>1</td>\n",
              "      <td>[rt, newly, painted, walls, thanks, million, c...</td>\n",
              "    </tr>\n",
              "    <tr>\n",
              "      <th>4</th>\n",
              "      <td>7.680980e+17</td>\n",
              "      <td>RT @CedricFeschotte: Excited to announce: as o...</td>\n",
              "      <td>1</td>\n",
              "      <td>[rt, cedricfeschotte, excited, announce, july,...</td>\n",
              "    </tr>\n",
              "    <tr>\n",
              "      <th>...</th>\n",
              "      <td>...</td>\n",
              "      <td>...</td>\n",
              "      <td>...</td>\n",
              "      <td>...</td>\n",
              "    </tr>\n",
              "    <tr>\n",
              "      <th>550386</th>\n",
              "      <td>8.046170e+17</td>\n",
              "      <td>@goddesses_o I can't stop watching her...mm. M...</td>\n",
              "      <td>0</td>\n",
              "      <td>[ca, stop, watching, mm]</td>\n",
              "    </tr>\n",
              "    <tr>\n",
              "      <th>550387</th>\n",
              "      <td>8.046180e+17</td>\n",
              "      <td>Poor old Tom Odell doesn't look like he would ...</td>\n",
              "      <td>0</td>\n",
              "      <td>[poor, old, tom, odell, look, like, would, kno...</td>\n",
              "    </tr>\n",
              "    <tr>\n",
              "      <th>550388</th>\n",
              "      <td>8.046180e+17</td>\n",
              "      <td>#antsmasher I smashed  7 ants in this awesome ...</td>\n",
              "      <td>1</td>\n",
              "      <td>[antsmasher, smashed, ants, awesome, game, hjf...</td>\n",
              "    </tr>\n",
              "    <tr>\n",
              "      <th>550389</th>\n",
              "      <td>8.046180e+17</td>\n",
              "      <td>@LizHudston @KymWyllie @Evasmiless @meanBok @l...</td>\n",
              "      <td>1</td>\n",
              "      <td>[lizhudston, kymwyllie, evasmiless, meanbok, m...</td>\n",
              "    </tr>\n",
              "    <tr>\n",
              "      <th>550390</th>\n",
              "      <td>8.046190e+17</td>\n",
              "      <td>Bixbeat Mixtape Vol.2 is here with great artis...</td>\n",
              "      <td>1</td>\n",
              "      <td>[bixbeat, mixtape, great, artiste, join, movem...</td>\n",
              "    </tr>\n",
              "  </tbody>\n",
              "</table>\n",
              "<p>550391 rows × 4 columns</p>\n",
              "</div>"
            ],
            "text/plain": [
              "                  ID  ...                                              token\n",
              "0       7.680980e+17  ...  [josh, jenkins, looking, forward, tab, breeder...\n",
              "1       7.680980e+17  ...  [rt, mianusmanjaved, congratulations, pakistan...\n",
              "2       7.680980e+17  ...  [rt, pepalerts, september, yesmag, taking, mai...\n",
              "3       7.680980e+17  ...  [rt, newly, painted, walls, thanks, million, c...\n",
              "4       7.680980e+17  ...  [rt, cedricfeschotte, excited, announce, july,...\n",
              "...              ...  ...                                                ...\n",
              "550386  8.046170e+17  ...                           [ca, stop, watching, mm]\n",
              "550387  8.046180e+17  ...  [poor, old, tom, odell, look, like, would, kno...\n",
              "550388  8.046180e+17  ...  [antsmasher, smashed, ants, awesome, game, hjf...\n",
              "550389  8.046180e+17  ...  [lizhudston, kymwyllie, evasmiless, meanbok, m...\n",
              "550390  8.046190e+17  ...  [bixbeat, mixtape, great, artiste, join, movem...\n",
              "\n",
              "[550391 rows x 4 columns]"
            ]
          },
          "metadata": {},
          "execution_count": 8
        }
      ]
    },
    {
      "cell_type": "code",
      "metadata": {
        "id": "tzWHfUVihWgG",
        "colab": {
          "base_uri": "https://localhost:8080/",
          "height": 419
        },
        "outputId": "d0bd854e-aa72-46b7-f266-88390b95e5e4"
      },
      "source": [
        "for i in range(df_sent.shape[0]):\n",
        "    df_sent.at[i, 'token']=' '.join(df_sent.iloc[i]['token'])\n",
        "df_sent"
      ],
      "execution_count": 9,
      "outputs": [
        {
          "output_type": "execute_result",
          "data": {
            "text/html": [
              "<div>\n",
              "<style scoped>\n",
              "    .dataframe tbody tr th:only-of-type {\n",
              "        vertical-align: middle;\n",
              "    }\n",
              "\n",
              "    .dataframe tbody tr th {\n",
              "        vertical-align: top;\n",
              "    }\n",
              "\n",
              "    .dataframe thead th {\n",
              "        text-align: right;\n",
              "    }\n",
              "</style>\n",
              "<table border=\"1\" class=\"dataframe\">\n",
              "  <thead>\n",
              "    <tr style=\"text-align: right;\">\n",
              "      <th></th>\n",
              "      <th>ID</th>\n",
              "      <th>text</th>\n",
              "      <th>label</th>\n",
              "      <th>token</th>\n",
              "    </tr>\n",
              "  </thead>\n",
              "  <tbody>\n",
              "    <tr>\n",
              "      <th>0</th>\n",
              "      <td>7.680980e+17</td>\n",
              "      <td>Josh Jenkins is looking forward to TAB Breeder...</td>\n",
              "      <td>1</td>\n",
              "      <td>josh jenkins looking forward tab breeders crow...</td>\n",
              "    </tr>\n",
              "    <tr>\n",
              "      <th>1</th>\n",
              "      <td>7.680980e+17</td>\n",
              "      <td>RT @MianUsmanJaved: Congratulations Pakistan o...</td>\n",
              "      <td>1</td>\n",
              "      <td>rt mianusmanjaved congratulations pakistan bec...</td>\n",
              "    </tr>\n",
              "    <tr>\n",
              "      <th>2</th>\n",
              "      <td>7.680980e+17</td>\n",
              "      <td>RT @PEPalerts: This September, @YESmag is taki...</td>\n",
              "      <td>1</td>\n",
              "      <td>rt pepalerts september yesmag taking maine men...</td>\n",
              "    </tr>\n",
              "    <tr>\n",
              "      <th>3</th>\n",
              "      <td>7.680980e+17</td>\n",
              "      <td>RT @david_gaibis: Newly painted walls, thanks ...</td>\n",
              "      <td>1</td>\n",
              "      <td>rt newly painted walls thanks million custodia...</td>\n",
              "    </tr>\n",
              "    <tr>\n",
              "      <th>4</th>\n",
              "      <td>7.680980e+17</td>\n",
              "      <td>RT @CedricFeschotte: Excited to announce: as o...</td>\n",
              "      <td>1</td>\n",
              "      <td>rt cedricfeschotte excited announce july fesch...</td>\n",
              "    </tr>\n",
              "    <tr>\n",
              "      <th>...</th>\n",
              "      <td>...</td>\n",
              "      <td>...</td>\n",
              "      <td>...</td>\n",
              "      <td>...</td>\n",
              "    </tr>\n",
              "    <tr>\n",
              "      <th>550386</th>\n",
              "      <td>8.046170e+17</td>\n",
              "      <td>@goddesses_o I can't stop watching her...mm. M...</td>\n",
              "      <td>0</td>\n",
              "      <td>ca stop watching mm</td>\n",
              "    </tr>\n",
              "    <tr>\n",
              "      <th>550387</th>\n",
              "      <td>8.046180e+17</td>\n",
              "      <td>Poor old Tom Odell doesn't look like he would ...</td>\n",
              "      <td>0</td>\n",
              "      <td>poor old tom odell look like would know wrong ...</td>\n",
              "    </tr>\n",
              "    <tr>\n",
              "      <th>550388</th>\n",
              "      <td>8.046180e+17</td>\n",
              "      <td>#antsmasher I smashed  7 ants in this awesome ...</td>\n",
              "      <td>1</td>\n",
              "      <td>antsmasher smashed ants awesome game hjfjfi</td>\n",
              "    </tr>\n",
              "    <tr>\n",
              "      <th>550389</th>\n",
              "      <td>8.046180e+17</td>\n",
              "      <td>@LizHudston @KymWyllie @Evasmiless @meanBok @l...</td>\n",
              "      <td>1</td>\n",
              "      <td>lizhudston kymwyllie evasmiless meanbok mornin...</td>\n",
              "    </tr>\n",
              "    <tr>\n",
              "      <th>550390</th>\n",
              "      <td>8.046190e+17</td>\n",
              "      <td>Bixbeat Mixtape Vol.2 is here with great artis...</td>\n",
              "      <td>1</td>\n",
              "      <td>bixbeat mixtape great artiste join movement bi...</td>\n",
              "    </tr>\n",
              "  </tbody>\n",
              "</table>\n",
              "<p>550391 rows × 4 columns</p>\n",
              "</div>"
            ],
            "text/plain": [
              "                  ID  ...                                              token\n",
              "0       7.680980e+17  ...  josh jenkins looking forward tab breeders crow...\n",
              "1       7.680980e+17  ...  rt mianusmanjaved congratulations pakistan bec...\n",
              "2       7.680980e+17  ...  rt pepalerts september yesmag taking maine men...\n",
              "3       7.680980e+17  ...  rt newly painted walls thanks million custodia...\n",
              "4       7.680980e+17  ...  rt cedricfeschotte excited announce july fesch...\n",
              "...              ...  ...                                                ...\n",
              "550386  8.046170e+17  ...                                ca stop watching mm\n",
              "550387  8.046180e+17  ...  poor old tom odell look like would know wrong ...\n",
              "550388  8.046180e+17  ...        antsmasher smashed ants awesome game hjfjfi\n",
              "550389  8.046180e+17  ...  lizhudston kymwyllie evasmiless meanbok mornin...\n",
              "550390  8.046190e+17  ...  bixbeat mixtape great artiste join movement bi...\n",
              "\n",
              "[550391 rows x 4 columns]"
            ]
          },
          "metadata": {},
          "execution_count": 9
        }
      ]
    },
    {
      "cell_type": "markdown",
      "metadata": {
        "id": "v1T7U_qKx9B5"
      },
      "source": [
        "**1.2 Data cleaning for Canadian_election_2021.csv**"
      ]
    },
    {
      "cell_type": "code",
      "metadata": {
        "id": "85gj2OrFyO4w",
        "colab": {
          "base_uri": "https://localhost:8080/",
          "height": 419
        },
        "outputId": "fd5d0b52-9aeb-4783-88b1-915a33933899"
      },
      "source": [
        "import pandas as pd\n",
        "\n",
        "df_elect = pd.read_csv(\"/content/Canadian_elections_2021.csv\")\n",
        "df_elect"
      ],
      "execution_count": 10,
      "outputs": [
        {
          "output_type": "execute_result",
          "data": {
            "text/html": [
              "<div>\n",
              "<style scoped>\n",
              "    .dataframe tbody tr th:only-of-type {\n",
              "        vertical-align: middle;\n",
              "    }\n",
              "\n",
              "    .dataframe tbody tr th {\n",
              "        vertical-align: top;\n",
              "    }\n",
              "\n",
              "    .dataframe thead th {\n",
              "        text-align: right;\n",
              "    }\n",
              "</style>\n",
              "<table border=\"1\" class=\"dataframe\">\n",
              "  <thead>\n",
              "    <tr style=\"text-align: right;\">\n",
              "      <th></th>\n",
              "      <th>text</th>\n",
              "      <th>sentiment</th>\n",
              "      <th>negative_reason</th>\n",
              "    </tr>\n",
              "  </thead>\n",
              "  <tbody>\n",
              "    <tr>\n",
              "      <th>0</th>\n",
              "      <td>The Canadian election is a power grab by PM Tr...</td>\n",
              "      <td>negative</td>\n",
              "      <td>calling election early</td>\n",
              "    </tr>\n",
              "    <tr>\n",
              "      <th>1</th>\n",
              "      <td>I do hope Trudeau loses the Canadian election ...</td>\n",
              "      <td>negative</td>\n",
              "      <td>covid</td>\n",
              "    </tr>\n",
              "    <tr>\n",
              "      <th>2</th>\n",
              "      <td>Dear Canadians, This election is a test of how...</td>\n",
              "      <td>positive</td>\n",
              "      <td>NaN</td>\n",
              "    </tr>\n",
              "    <tr>\n",
              "      <th>3</th>\n",
              "      <td>Canadian friends: Never forget that Trudeau ha...</td>\n",
              "      <td>negative</td>\n",
              "      <td>calling election early</td>\n",
              "    </tr>\n",
              "    <tr>\n",
              "      <th>4</th>\n",
              "      <td>Sorry @theJagmeetSingh I have voted #NDP all m...</td>\n",
              "      <td>positive</td>\n",
              "      <td>NaN</td>\n",
              "    </tr>\n",
              "    <tr>\n",
              "      <th>...</th>\n",
              "      <td>...</td>\n",
              "      <td>...</td>\n",
              "      <td>...</td>\n",
              "    </tr>\n",
              "    <tr>\n",
              "      <th>997</th>\n",
              "      <td>This is absolutely horrible in Canada. The for...</td>\n",
              "      <td>negative</td>\n",
              "      <td>others</td>\n",
              "    </tr>\n",
              "    <tr>\n",
              "      <th>998</th>\n",
              "      <td>@davidakin Trudeau imposes gun control policie...</td>\n",
              "      <td>negative</td>\n",
              "      <td>gun control</td>\n",
              "    </tr>\n",
              "    <tr>\n",
              "      <th>999</th>\n",
              "      <td>In Canada 🇨🇦 our election is being stolen by t...</td>\n",
              "      <td>negative</td>\n",
              "      <td>others</td>\n",
              "    </tr>\n",
              "    <tr>\n",
              "      <th>1000</th>\n",
              "      <td>O'Toole amends platform on gun control, but qu...</td>\n",
              "      <td>negative</td>\n",
              "      <td>tell lies</td>\n",
              "    </tr>\n",
              "    <tr>\n",
              "      <th>1001</th>\n",
              "      <td>@JustinTrudeau STOP YOUR LIES, STOP YOUR MANIP...</td>\n",
              "      <td>negative</td>\n",
              "      <td>tell lies</td>\n",
              "    </tr>\n",
              "  </tbody>\n",
              "</table>\n",
              "<p>1002 rows × 3 columns</p>\n",
              "</div>"
            ],
            "text/plain": [
              "                                                   text  ...         negative_reason\n",
              "0     The Canadian election is a power grab by PM Tr...  ...  calling election early\n",
              "1     I do hope Trudeau loses the Canadian election ...  ...                  covid \n",
              "2     Dear Canadians, This election is a test of how...  ...                     NaN\n",
              "3     Canadian friends: Never forget that Trudeau ha...  ...  calling election early\n",
              "4     Sorry @theJagmeetSingh I have voted #NDP all m...  ...                     NaN\n",
              "...                                                 ...  ...                     ...\n",
              "997   This is absolutely horrible in Canada. The for...  ...                  others\n",
              "998   @davidakin Trudeau imposes gun control policie...  ...             gun control\n",
              "999   In Canada 🇨🇦 our election is being stolen by t...  ...                  others\n",
              "1000  O'Toole amends platform on gun control, but qu...  ...               tell lies\n",
              "1001  @JustinTrudeau STOP YOUR LIES, STOP YOUR MANIP...  ...               tell lies\n",
              "\n",
              "[1002 rows x 3 columns]"
            ]
          },
          "metadata": {},
          "execution_count": 10
        }
      ]
    },
    {
      "cell_type": "code",
      "metadata": {
        "id": "dMElrCD4yaLo",
        "colab": {
          "base_uri": "https://localhost:8080/",
          "height": 419
        },
        "outputId": "7b06d90a-aeac-4eec-80e7-919b6ce06640"
      },
      "source": [
        "# Remove URL\n",
        "import re\n",
        "df_elect['text']=df_elect.apply(lambda x: re.sub(r'https?:\\/\\/\\S*', '', x['text']), axis=1)\n",
        "df_elect"
      ],
      "execution_count": 11,
      "outputs": [
        {
          "output_type": "execute_result",
          "data": {
            "text/html": [
              "<div>\n",
              "<style scoped>\n",
              "    .dataframe tbody tr th:only-of-type {\n",
              "        vertical-align: middle;\n",
              "    }\n",
              "\n",
              "    .dataframe tbody tr th {\n",
              "        vertical-align: top;\n",
              "    }\n",
              "\n",
              "    .dataframe thead th {\n",
              "        text-align: right;\n",
              "    }\n",
              "</style>\n",
              "<table border=\"1\" class=\"dataframe\">\n",
              "  <thead>\n",
              "    <tr style=\"text-align: right;\">\n",
              "      <th></th>\n",
              "      <th>text</th>\n",
              "      <th>sentiment</th>\n",
              "      <th>negative_reason</th>\n",
              "    </tr>\n",
              "  </thead>\n",
              "  <tbody>\n",
              "    <tr>\n",
              "      <th>0</th>\n",
              "      <td>The Canadian election is a power grab by PM Tr...</td>\n",
              "      <td>negative</td>\n",
              "      <td>calling election early</td>\n",
              "    </tr>\n",
              "    <tr>\n",
              "      <th>1</th>\n",
              "      <td>I do hope Trudeau loses the Canadian election ...</td>\n",
              "      <td>negative</td>\n",
              "      <td>covid</td>\n",
              "    </tr>\n",
              "    <tr>\n",
              "      <th>2</th>\n",
              "      <td>Dear Canadians, This election is a test of how...</td>\n",
              "      <td>positive</td>\n",
              "      <td>NaN</td>\n",
              "    </tr>\n",
              "    <tr>\n",
              "      <th>3</th>\n",
              "      <td>Canadian friends: Never forget that Trudeau ha...</td>\n",
              "      <td>negative</td>\n",
              "      <td>calling election early</td>\n",
              "    </tr>\n",
              "    <tr>\n",
              "      <th>4</th>\n",
              "      <td>Sorry @theJagmeetSingh I have voted #NDP all m...</td>\n",
              "      <td>positive</td>\n",
              "      <td>NaN</td>\n",
              "    </tr>\n",
              "    <tr>\n",
              "      <th>...</th>\n",
              "      <td>...</td>\n",
              "      <td>...</td>\n",
              "      <td>...</td>\n",
              "    </tr>\n",
              "    <tr>\n",
              "      <th>997</th>\n",
              "      <td>This is absolutely horrible in Canada. The for...</td>\n",
              "      <td>negative</td>\n",
              "      <td>others</td>\n",
              "    </tr>\n",
              "    <tr>\n",
              "      <th>998</th>\n",
              "      <td>@davidakin Trudeau imposes gun control policie...</td>\n",
              "      <td>negative</td>\n",
              "      <td>gun control</td>\n",
              "    </tr>\n",
              "    <tr>\n",
              "      <th>999</th>\n",
              "      <td>In Canada 🇨🇦 our election is being stolen by t...</td>\n",
              "      <td>negative</td>\n",
              "      <td>others</td>\n",
              "    </tr>\n",
              "    <tr>\n",
              "      <th>1000</th>\n",
              "      <td>O'Toole amends platform on gun control, but qu...</td>\n",
              "      <td>negative</td>\n",
              "      <td>tell lies</td>\n",
              "    </tr>\n",
              "    <tr>\n",
              "      <th>1001</th>\n",
              "      <td>@JustinTrudeau STOP YOUR LIES, STOP YOUR MANIP...</td>\n",
              "      <td>negative</td>\n",
              "      <td>tell lies</td>\n",
              "    </tr>\n",
              "  </tbody>\n",
              "</table>\n",
              "<p>1002 rows × 3 columns</p>\n",
              "</div>"
            ],
            "text/plain": [
              "                                                   text  ...         negative_reason\n",
              "0     The Canadian election is a power grab by PM Tr...  ...  calling election early\n",
              "1     I do hope Trudeau loses the Canadian election ...  ...                  covid \n",
              "2     Dear Canadians, This election is a test of how...  ...                     NaN\n",
              "3     Canadian friends: Never forget that Trudeau ha...  ...  calling election early\n",
              "4     Sorry @theJagmeetSingh I have voted #NDP all m...  ...                     NaN\n",
              "...                                                 ...  ...                     ...\n",
              "997   This is absolutely horrible in Canada. The for...  ...                  others\n",
              "998   @davidakin Trudeau imposes gun control policie...  ...             gun control\n",
              "999   In Canada 🇨🇦 our election is being stolen by t...  ...                  others\n",
              "1000  O'Toole amends platform on gun control, but qu...  ...               tell lies\n",
              "1001  @JustinTrudeau STOP YOUR LIES, STOP YOUR MANIP...  ...               tell lies\n",
              "\n",
              "[1002 rows x 3 columns]"
            ]
          },
          "metadata": {},
          "execution_count": 11
        }
      ]
    },
    {
      "cell_type": "code",
      "metadata": {
        "id": "8wgJ3_5eyi4i",
        "colab": {
          "base_uri": "https://localhost:8080/",
          "height": 470
        },
        "outputId": "4ef49ab5-036a-47c1-e585-eb9004ab4b13"
      },
      "source": [
        "#Replace special characters with ASCII equivalent\n",
        "from unidecode import unidecode\n",
        "df_elect['token']=df_elect.apply(lambda row: unidecode(row['text']), axis=1)\n",
        "df_elect"
      ],
      "execution_count": 12,
      "outputs": [
        {
          "output_type": "execute_result",
          "data": {
            "text/html": [
              "<div>\n",
              "<style scoped>\n",
              "    .dataframe tbody tr th:only-of-type {\n",
              "        vertical-align: middle;\n",
              "    }\n",
              "\n",
              "    .dataframe tbody tr th {\n",
              "        vertical-align: top;\n",
              "    }\n",
              "\n",
              "    .dataframe thead th {\n",
              "        text-align: right;\n",
              "    }\n",
              "</style>\n",
              "<table border=\"1\" class=\"dataframe\">\n",
              "  <thead>\n",
              "    <tr style=\"text-align: right;\">\n",
              "      <th></th>\n",
              "      <th>text</th>\n",
              "      <th>sentiment</th>\n",
              "      <th>negative_reason</th>\n",
              "      <th>token</th>\n",
              "    </tr>\n",
              "  </thead>\n",
              "  <tbody>\n",
              "    <tr>\n",
              "      <th>0</th>\n",
              "      <td>The Canadian election is a power grab by PM Tr...</td>\n",
              "      <td>negative</td>\n",
              "      <td>calling election early</td>\n",
              "      <td>The Canadian election is a power grab by PM Tr...</td>\n",
              "    </tr>\n",
              "    <tr>\n",
              "      <th>1</th>\n",
              "      <td>I do hope Trudeau loses the Canadian election ...</td>\n",
              "      <td>negative</td>\n",
              "      <td>covid</td>\n",
              "      <td>I do hope Trudeau loses the Canadian election ...</td>\n",
              "    </tr>\n",
              "    <tr>\n",
              "      <th>2</th>\n",
              "      <td>Dear Canadians, This election is a test of how...</td>\n",
              "      <td>positive</td>\n",
              "      <td>NaN</td>\n",
              "      <td>Dear Canadians, This election is a test of how...</td>\n",
              "    </tr>\n",
              "    <tr>\n",
              "      <th>3</th>\n",
              "      <td>Canadian friends: Never forget that Trudeau ha...</td>\n",
              "      <td>negative</td>\n",
              "      <td>calling election early</td>\n",
              "      <td>Canadian friends: Never forget that Trudeau ha...</td>\n",
              "    </tr>\n",
              "    <tr>\n",
              "      <th>4</th>\n",
              "      <td>Sorry @theJagmeetSingh I have voted #NDP all m...</td>\n",
              "      <td>positive</td>\n",
              "      <td>NaN</td>\n",
              "      <td>Sorry @theJagmeetSingh I have voted #NDP all m...</td>\n",
              "    </tr>\n",
              "    <tr>\n",
              "      <th>...</th>\n",
              "      <td>...</td>\n",
              "      <td>...</td>\n",
              "      <td>...</td>\n",
              "      <td>...</td>\n",
              "    </tr>\n",
              "    <tr>\n",
              "      <th>997</th>\n",
              "      <td>This is absolutely horrible in Canada. The for...</td>\n",
              "      <td>negative</td>\n",
              "      <td>others</td>\n",
              "      <td>This is absolutely horrible in Canada. The for...</td>\n",
              "    </tr>\n",
              "    <tr>\n",
              "      <th>998</th>\n",
              "      <td>@davidakin Trudeau imposes gun control policie...</td>\n",
              "      <td>negative</td>\n",
              "      <td>gun control</td>\n",
              "      <td>@davidakin Trudeau imposes gun control policie...</td>\n",
              "    </tr>\n",
              "    <tr>\n",
              "      <th>999</th>\n",
              "      <td>In Canada 🇨🇦 our election is being stolen by t...</td>\n",
              "      <td>negative</td>\n",
              "      <td>others</td>\n",
              "      <td>In Canada  our election is being stolen by thu...</td>\n",
              "    </tr>\n",
              "    <tr>\n",
              "      <th>1000</th>\n",
              "      <td>O'Toole amends platform on gun control, but qu...</td>\n",
              "      <td>negative</td>\n",
              "      <td>tell lies</td>\n",
              "      <td>O'Toole amends platform on gun control, but qu...</td>\n",
              "    </tr>\n",
              "    <tr>\n",
              "      <th>1001</th>\n",
              "      <td>@JustinTrudeau STOP YOUR LIES, STOP YOUR MANIP...</td>\n",
              "      <td>negative</td>\n",
              "      <td>tell lies</td>\n",
              "      <td>@JustinTrudeau STOP YOUR LIES, STOP YOUR MANIP...</td>\n",
              "    </tr>\n",
              "  </tbody>\n",
              "</table>\n",
              "<p>1002 rows × 4 columns</p>\n",
              "</div>"
            ],
            "text/plain": [
              "                                                   text  ...                                              token\n",
              "0     The Canadian election is a power grab by PM Tr...  ...  The Canadian election is a power grab by PM Tr...\n",
              "1     I do hope Trudeau loses the Canadian election ...  ...  I do hope Trudeau loses the Canadian election ...\n",
              "2     Dear Canadians, This election is a test of how...  ...  Dear Canadians, This election is a test of how...\n",
              "3     Canadian friends: Never forget that Trudeau ha...  ...  Canadian friends: Never forget that Trudeau ha...\n",
              "4     Sorry @theJagmeetSingh I have voted #NDP all m...  ...  Sorry @theJagmeetSingh I have voted #NDP all m...\n",
              "...                                                 ...  ...                                                ...\n",
              "997   This is absolutely horrible in Canada. The for...  ...  This is absolutely horrible in Canada. The for...\n",
              "998   @davidakin Trudeau imposes gun control policie...  ...  @davidakin Trudeau imposes gun control policie...\n",
              "999   In Canada 🇨🇦 our election is being stolen by t...  ...  In Canada  our election is being stolen by thu...\n",
              "1000  O'Toole amends platform on gun control, but qu...  ...  O'Toole amends platform on gun control, but qu...\n",
              "1001  @JustinTrudeau STOP YOUR LIES, STOP YOUR MANIP...  ...  @JustinTrudeau STOP YOUR LIES, STOP YOUR MANIP...\n",
              "\n",
              "[1002 rows x 4 columns]"
            ]
          },
          "metadata": {},
          "execution_count": 12
        }
      ]
    },
    {
      "cell_type": "code",
      "metadata": {
        "id": "5fr-uafgzJGf",
        "colab": {
          "base_uri": "https://localhost:8080/"
        },
        "outputId": "dbf3a8e8-7b63-4c89-aa08-008cf823ea8c"
      },
      "source": [
        "#Tokenize the sentences, split the sentences into words.\n",
        "import nltk\n",
        "nltk.download('punkt')\n",
        "from nltk.tokenize import word_tokenize\n",
        "df_elect['token']=df_elect.apply(lambda row: nltk.word_tokenize(row['token']), axis=1)"
      ],
      "execution_count": 13,
      "outputs": [
        {
          "output_type": "stream",
          "name": "stdout",
          "text": [
            "[nltk_data] Downloading package punkt to /root/nltk_data...\n",
            "[nltk_data]   Package punkt is already up-to-date!\n"
          ]
        }
      ]
    },
    {
      "cell_type": "code",
      "metadata": {
        "id": "Uls-yRU7zQ4B",
        "colab": {
          "base_uri": "https://localhost:8080/",
          "height": 470
        },
        "outputId": "39939280-bc30-41c8-e8a3-d0eea352552a"
      },
      "source": [
        "#Filter Out Punctuation\n",
        "df_elect['token']=df_elect.apply(lambda row: [word for word in row['token'] if word.isalpha()], axis=1)\n",
        "df_elect"
      ],
      "execution_count": 14,
      "outputs": [
        {
          "output_type": "execute_result",
          "data": {
            "text/html": [
              "<div>\n",
              "<style scoped>\n",
              "    .dataframe tbody tr th:only-of-type {\n",
              "        vertical-align: middle;\n",
              "    }\n",
              "\n",
              "    .dataframe tbody tr th {\n",
              "        vertical-align: top;\n",
              "    }\n",
              "\n",
              "    .dataframe thead th {\n",
              "        text-align: right;\n",
              "    }\n",
              "</style>\n",
              "<table border=\"1\" class=\"dataframe\">\n",
              "  <thead>\n",
              "    <tr style=\"text-align: right;\">\n",
              "      <th></th>\n",
              "      <th>text</th>\n",
              "      <th>sentiment</th>\n",
              "      <th>negative_reason</th>\n",
              "      <th>token</th>\n",
              "    </tr>\n",
              "  </thead>\n",
              "  <tbody>\n",
              "    <tr>\n",
              "      <th>0</th>\n",
              "      <td>The Canadian election is a power grab by PM Tr...</td>\n",
              "      <td>negative</td>\n",
              "      <td>calling election early</td>\n",
              "      <td>[The, Canadian, election, is, a, power, grab, ...</td>\n",
              "    </tr>\n",
              "    <tr>\n",
              "      <th>1</th>\n",
              "      <td>I do hope Trudeau loses the Canadian election ...</td>\n",
              "      <td>negative</td>\n",
              "      <td>covid</td>\n",
              "      <td>[I, do, hope, Trudeau, loses, the, Canadian, e...</td>\n",
              "    </tr>\n",
              "    <tr>\n",
              "      <th>2</th>\n",
              "      <td>Dear Canadians, This election is a test of how...</td>\n",
              "      <td>positive</td>\n",
              "      <td>NaN</td>\n",
              "      <td>[Dear, Canadians, This, election, is, a, test,...</td>\n",
              "    </tr>\n",
              "    <tr>\n",
              "      <th>3</th>\n",
              "      <td>Canadian friends: Never forget that Trudeau ha...</td>\n",
              "      <td>negative</td>\n",
              "      <td>calling election early</td>\n",
              "      <td>[Canadian, friends, Never, forget, that, Trude...</td>\n",
              "    </tr>\n",
              "    <tr>\n",
              "      <th>4</th>\n",
              "      <td>Sorry @theJagmeetSingh I have voted #NDP all m...</td>\n",
              "      <td>positive</td>\n",
              "      <td>NaN</td>\n",
              "      <td>[Sorry, theJagmeetSingh, I, have, voted, NDP, ...</td>\n",
              "    </tr>\n",
              "    <tr>\n",
              "      <th>...</th>\n",
              "      <td>...</td>\n",
              "      <td>...</td>\n",
              "      <td>...</td>\n",
              "      <td>...</td>\n",
              "    </tr>\n",
              "    <tr>\n",
              "      <th>997</th>\n",
              "      <td>This is absolutely horrible in Canada. The for...</td>\n",
              "      <td>negative</td>\n",
              "      <td>others</td>\n",
              "      <td>[This, is, absolutely, horrible, in, Canada, T...</td>\n",
              "    </tr>\n",
              "    <tr>\n",
              "      <th>998</th>\n",
              "      <td>@davidakin Trudeau imposes gun control policie...</td>\n",
              "      <td>negative</td>\n",
              "      <td>gun control</td>\n",
              "      <td>[davidakin, Trudeau, imposes, gun, control, po...</td>\n",
              "    </tr>\n",
              "    <tr>\n",
              "      <th>999</th>\n",
              "      <td>In Canada 🇨🇦 our election is being stolen by t...</td>\n",
              "      <td>negative</td>\n",
              "      <td>others</td>\n",
              "      <td>[In, Canada, our, election, is, being, stolen,...</td>\n",
              "    </tr>\n",
              "    <tr>\n",
              "      <th>1000</th>\n",
              "      <td>O'Toole amends platform on gun control, but qu...</td>\n",
              "      <td>negative</td>\n",
              "      <td>tell lies</td>\n",
              "      <td>[amends, platform, on, gun, control, but, ques...</td>\n",
              "    </tr>\n",
              "    <tr>\n",
              "      <th>1001</th>\n",
              "      <td>@JustinTrudeau STOP YOUR LIES, STOP YOUR MANIP...</td>\n",
              "      <td>negative</td>\n",
              "      <td>tell lies</td>\n",
              "      <td>[JustinTrudeau, STOP, YOUR, LIES, STOP, YOUR, ...</td>\n",
              "    </tr>\n",
              "  </tbody>\n",
              "</table>\n",
              "<p>1002 rows × 4 columns</p>\n",
              "</div>"
            ],
            "text/plain": [
              "                                                   text  ...                                              token\n",
              "0     The Canadian election is a power grab by PM Tr...  ...  [The, Canadian, election, is, a, power, grab, ...\n",
              "1     I do hope Trudeau loses the Canadian election ...  ...  [I, do, hope, Trudeau, loses, the, Canadian, e...\n",
              "2     Dear Canadians, This election is a test of how...  ...  [Dear, Canadians, This, election, is, a, test,...\n",
              "3     Canadian friends: Never forget that Trudeau ha...  ...  [Canadian, friends, Never, forget, that, Trude...\n",
              "4     Sorry @theJagmeetSingh I have voted #NDP all m...  ...  [Sorry, theJagmeetSingh, I, have, voted, NDP, ...\n",
              "...                                                 ...  ...                                                ...\n",
              "997   This is absolutely horrible in Canada. The for...  ...  [This, is, absolutely, horrible, in, Canada, T...\n",
              "998   @davidakin Trudeau imposes gun control policie...  ...  [davidakin, Trudeau, imposes, gun, control, po...\n",
              "999   In Canada 🇨🇦 our election is being stolen by t...  ...  [In, Canada, our, election, is, being, stolen,...\n",
              "1000  O'Toole amends platform on gun control, but qu...  ...  [amends, platform, on, gun, control, but, ques...\n",
              "1001  @JustinTrudeau STOP YOUR LIES, STOP YOUR MANIP...  ...  [JustinTrudeau, STOP, YOUR, LIES, STOP, YOUR, ...\n",
              "\n",
              "[1002 rows x 4 columns]"
            ]
          },
          "metadata": {},
          "execution_count": 14
        }
      ]
    },
    {
      "cell_type": "code",
      "metadata": {
        "id": "qscrImZH0eRP",
        "colab": {
          "base_uri": "https://localhost:8080/",
          "height": 419
        },
        "outputId": "04932e27-a331-4299-f574-913754cbee62"
      },
      "source": [
        "#convert all the uppercase words into lowercase words\n",
        "df_elect['token']=df_elect.apply(lambda row: [word.lower() for word in row['token']], axis=1)\n",
        "df_elect"
      ],
      "execution_count": 15,
      "outputs": [
        {
          "output_type": "execute_result",
          "data": {
            "text/html": [
              "<div>\n",
              "<style scoped>\n",
              "    .dataframe tbody tr th:only-of-type {\n",
              "        vertical-align: middle;\n",
              "    }\n",
              "\n",
              "    .dataframe tbody tr th {\n",
              "        vertical-align: top;\n",
              "    }\n",
              "\n",
              "    .dataframe thead th {\n",
              "        text-align: right;\n",
              "    }\n",
              "</style>\n",
              "<table border=\"1\" class=\"dataframe\">\n",
              "  <thead>\n",
              "    <tr style=\"text-align: right;\">\n",
              "      <th></th>\n",
              "      <th>text</th>\n",
              "      <th>sentiment</th>\n",
              "      <th>negative_reason</th>\n",
              "      <th>token</th>\n",
              "    </tr>\n",
              "  </thead>\n",
              "  <tbody>\n",
              "    <tr>\n",
              "      <th>0</th>\n",
              "      <td>The Canadian election is a power grab by PM Tr...</td>\n",
              "      <td>negative</td>\n",
              "      <td>calling election early</td>\n",
              "      <td>[the, canadian, election, is, a, power, grab, ...</td>\n",
              "    </tr>\n",
              "    <tr>\n",
              "      <th>1</th>\n",
              "      <td>I do hope Trudeau loses the Canadian election ...</td>\n",
              "      <td>negative</td>\n",
              "      <td>covid</td>\n",
              "      <td>[i, do, hope, trudeau, loses, the, canadian, e...</td>\n",
              "    </tr>\n",
              "    <tr>\n",
              "      <th>2</th>\n",
              "      <td>Dear Canadians, This election is a test of how...</td>\n",
              "      <td>positive</td>\n",
              "      <td>NaN</td>\n",
              "      <td>[dear, canadians, this, election, is, a, test,...</td>\n",
              "    </tr>\n",
              "    <tr>\n",
              "      <th>3</th>\n",
              "      <td>Canadian friends: Never forget that Trudeau ha...</td>\n",
              "      <td>negative</td>\n",
              "      <td>calling election early</td>\n",
              "      <td>[canadian, friends, never, forget, that, trude...</td>\n",
              "    </tr>\n",
              "    <tr>\n",
              "      <th>4</th>\n",
              "      <td>Sorry @theJagmeetSingh I have voted #NDP all m...</td>\n",
              "      <td>positive</td>\n",
              "      <td>NaN</td>\n",
              "      <td>[sorry, thejagmeetsingh, i, have, voted, ndp, ...</td>\n",
              "    </tr>\n",
              "    <tr>\n",
              "      <th>...</th>\n",
              "      <td>...</td>\n",
              "      <td>...</td>\n",
              "      <td>...</td>\n",
              "      <td>...</td>\n",
              "    </tr>\n",
              "    <tr>\n",
              "      <th>997</th>\n",
              "      <td>This is absolutely horrible in Canada. The for...</td>\n",
              "      <td>negative</td>\n",
              "      <td>others</td>\n",
              "      <td>[this, is, absolutely, horrible, in, canada, t...</td>\n",
              "    </tr>\n",
              "    <tr>\n",
              "      <th>998</th>\n",
              "      <td>@davidakin Trudeau imposes gun control policie...</td>\n",
              "      <td>negative</td>\n",
              "      <td>gun control</td>\n",
              "      <td>[davidakin, trudeau, imposes, gun, control, po...</td>\n",
              "    </tr>\n",
              "    <tr>\n",
              "      <th>999</th>\n",
              "      <td>In Canada 🇨🇦 our election is being stolen by t...</td>\n",
              "      <td>negative</td>\n",
              "      <td>others</td>\n",
              "      <td>[in, canada, our, election, is, being, stolen,...</td>\n",
              "    </tr>\n",
              "    <tr>\n",
              "      <th>1000</th>\n",
              "      <td>O'Toole amends platform on gun control, but qu...</td>\n",
              "      <td>negative</td>\n",
              "      <td>tell lies</td>\n",
              "      <td>[amends, platform, on, gun, control, but, ques...</td>\n",
              "    </tr>\n",
              "    <tr>\n",
              "      <th>1001</th>\n",
              "      <td>@JustinTrudeau STOP YOUR LIES, STOP YOUR MANIP...</td>\n",
              "      <td>negative</td>\n",
              "      <td>tell lies</td>\n",
              "      <td>[justintrudeau, stop, your, lies, stop, your, ...</td>\n",
              "    </tr>\n",
              "  </tbody>\n",
              "</table>\n",
              "<p>1002 rows × 4 columns</p>\n",
              "</div>"
            ],
            "text/plain": [
              "                                                   text  ...                                              token\n",
              "0     The Canadian election is a power grab by PM Tr...  ...  [the, canadian, election, is, a, power, grab, ...\n",
              "1     I do hope Trudeau loses the Canadian election ...  ...  [i, do, hope, trudeau, loses, the, canadian, e...\n",
              "2     Dear Canadians, This election is a test of how...  ...  [dear, canadians, this, election, is, a, test,...\n",
              "3     Canadian friends: Never forget that Trudeau ha...  ...  [canadian, friends, never, forget, that, trude...\n",
              "4     Sorry @theJagmeetSingh I have voted #NDP all m...  ...  [sorry, thejagmeetsingh, i, have, voted, ndp, ...\n",
              "...                                                 ...  ...                                                ...\n",
              "997   This is absolutely horrible in Canada. The for...  ...  [this, is, absolutely, horrible, in, canada, t...\n",
              "998   @davidakin Trudeau imposes gun control policie...  ...  [davidakin, trudeau, imposes, gun, control, po...\n",
              "999   In Canada 🇨🇦 our election is being stolen by t...  ...  [in, canada, our, election, is, being, stolen,...\n",
              "1000  O'Toole amends platform on gun control, but qu...  ...  [amends, platform, on, gun, control, but, ques...\n",
              "1001  @JustinTrudeau STOP YOUR LIES, STOP YOUR MANIP...  ...  [justintrudeau, stop, your, lies, stop, your, ...\n",
              "\n",
              "[1002 rows x 4 columns]"
            ]
          },
          "metadata": {},
          "execution_count": 15
        }
      ]
    },
    {
      "cell_type": "code",
      "metadata": {
        "id": "KyBraIfB0nVb",
        "colab": {
          "base_uri": "https://localhost:8080/",
          "height": 490
        },
        "outputId": "0f9ded44-777b-46de-8927-da93031b220d"
      },
      "source": [
        "#Remove stop words\n",
        "nltk.download('stopwords')\n",
        "from nltk.corpus import stopwords\n",
        "stop_words = stopwords.words('english')\n",
        "print(stop_words) #The stop words we wanna delete\n",
        "\n",
        "df_elect['token']=df_elect.apply(lambda row: [word for word in row['token'] if not word in stop_words], axis=1)\n",
        "df_elect"
      ],
      "execution_count": 16,
      "outputs": [
        {
          "output_type": "stream",
          "name": "stdout",
          "text": [
            "[nltk_data] Downloading package stopwords to /root/nltk_data...\n",
            "[nltk_data]   Package stopwords is already up-to-date!\n",
            "['i', 'me', 'my', 'myself', 'we', 'our', 'ours', 'ourselves', 'you', \"you're\", \"you've\", \"you'll\", \"you'd\", 'your', 'yours', 'yourself', 'yourselves', 'he', 'him', 'his', 'himself', 'she', \"she's\", 'her', 'hers', 'herself', 'it', \"it's\", 'its', 'itself', 'they', 'them', 'their', 'theirs', 'themselves', 'what', 'which', 'who', 'whom', 'this', 'that', \"that'll\", 'these', 'those', 'am', 'is', 'are', 'was', 'were', 'be', 'been', 'being', 'have', 'has', 'had', 'having', 'do', 'does', 'did', 'doing', 'a', 'an', 'the', 'and', 'but', 'if', 'or', 'because', 'as', 'until', 'while', 'of', 'at', 'by', 'for', 'with', 'about', 'against', 'between', 'into', 'through', 'during', 'before', 'after', 'above', 'below', 'to', 'from', 'up', 'down', 'in', 'out', 'on', 'off', 'over', 'under', 'again', 'further', 'then', 'once', 'here', 'there', 'when', 'where', 'why', 'how', 'all', 'any', 'both', 'each', 'few', 'more', 'most', 'other', 'some', 'such', 'no', 'nor', 'not', 'only', 'own', 'same', 'so', 'than', 'too', 'very', 's', 't', 'can', 'will', 'just', 'don', \"don't\", 'should', \"should've\", 'now', 'd', 'll', 'm', 'o', 're', 've', 'y', 'ain', 'aren', \"aren't\", 'couldn', \"couldn't\", 'didn', \"didn't\", 'doesn', \"doesn't\", 'hadn', \"hadn't\", 'hasn', \"hasn't\", 'haven', \"haven't\", 'isn', \"isn't\", 'ma', 'mightn', \"mightn't\", 'mustn', \"mustn't\", 'needn', \"needn't\", 'shan', \"shan't\", 'shouldn', \"shouldn't\", 'wasn', \"wasn't\", 'weren', \"weren't\", 'won', \"won't\", 'wouldn', \"wouldn't\"]\n"
          ]
        },
        {
          "output_type": "execute_result",
          "data": {
            "text/html": [
              "<div>\n",
              "<style scoped>\n",
              "    .dataframe tbody tr th:only-of-type {\n",
              "        vertical-align: middle;\n",
              "    }\n",
              "\n",
              "    .dataframe tbody tr th {\n",
              "        vertical-align: top;\n",
              "    }\n",
              "\n",
              "    .dataframe thead th {\n",
              "        text-align: right;\n",
              "    }\n",
              "</style>\n",
              "<table border=\"1\" class=\"dataframe\">\n",
              "  <thead>\n",
              "    <tr style=\"text-align: right;\">\n",
              "      <th></th>\n",
              "      <th>text</th>\n",
              "      <th>sentiment</th>\n",
              "      <th>negative_reason</th>\n",
              "      <th>token</th>\n",
              "    </tr>\n",
              "  </thead>\n",
              "  <tbody>\n",
              "    <tr>\n",
              "      <th>0</th>\n",
              "      <td>The Canadian election is a power grab by PM Tr...</td>\n",
              "      <td>negative</td>\n",
              "      <td>calling election early</td>\n",
              "      <td>[canadian, election, power, grab, pm, trudeau,...</td>\n",
              "    </tr>\n",
              "    <tr>\n",
              "      <th>1</th>\n",
              "      <td>I do hope Trudeau loses the Canadian election ...</td>\n",
              "      <td>negative</td>\n",
              "      <td>covid</td>\n",
              "      <td>[hope, trudeau, loses, canadian, election, tom...</td>\n",
              "    </tr>\n",
              "    <tr>\n",
              "      <th>2</th>\n",
              "      <td>Dear Canadians, This election is a test of how...</td>\n",
              "      <td>positive</td>\n",
              "      <td>NaN</td>\n",
              "      <td>[dear, canadians, election, test, progressive,...</td>\n",
              "    </tr>\n",
              "    <tr>\n",
              "      <th>3</th>\n",
              "      <td>Canadian friends: Never forget that Trudeau ha...</td>\n",
              "      <td>negative</td>\n",
              "      <td>calling election early</td>\n",
              "      <td>[canadian, friends, never, forget, trudeau, ye...</td>\n",
              "    </tr>\n",
              "    <tr>\n",
              "      <th>4</th>\n",
              "      <td>Sorry @theJagmeetSingh I have voted #NDP all m...</td>\n",
              "      <td>positive</td>\n",
              "      <td>NaN</td>\n",
              "      <td>[sorry, thejagmeetsingh, voted, ndp, life, ele...</td>\n",
              "    </tr>\n",
              "    <tr>\n",
              "      <th>...</th>\n",
              "      <td>...</td>\n",
              "      <td>...</td>\n",
              "      <td>...</td>\n",
              "      <td>...</td>\n",
              "    </tr>\n",
              "    <tr>\n",
              "      <th>997</th>\n",
              "      <td>This is absolutely horrible in Canada. The for...</td>\n",
              "      <td>negative</td>\n",
              "      <td>others</td>\n",
              "      <td>[absolutely, horrible, canada, forthcoming, el...</td>\n",
              "    </tr>\n",
              "    <tr>\n",
              "      <th>998</th>\n",
              "      <td>@davidakin Trudeau imposes gun control policie...</td>\n",
              "      <td>negative</td>\n",
              "      <td>gun control</td>\n",
              "      <td>[davidakin, trudeau, imposes, gun, control, po...</td>\n",
              "    </tr>\n",
              "    <tr>\n",
              "      <th>999</th>\n",
              "      <td>In Canada 🇨🇦 our election is being stolen by t...</td>\n",
              "      <td>negative</td>\n",
              "      <td>others</td>\n",
              "      <td>[canada, election, stolen, thugs, uneducated, ...</td>\n",
              "    </tr>\n",
              "    <tr>\n",
              "      <th>1000</th>\n",
              "      <td>O'Toole amends platform on gun control, but qu...</td>\n",
              "      <td>negative</td>\n",
              "      <td>tell lies</td>\n",
              "      <td>[amends, platform, gun, control, questions, re...</td>\n",
              "    </tr>\n",
              "    <tr>\n",
              "      <th>1001</th>\n",
              "      <td>@JustinTrudeau STOP YOUR LIES, STOP YOUR MANIP...</td>\n",
              "      <td>negative</td>\n",
              "      <td>tell lies</td>\n",
              "      <td>[justintrudeau, stop, lies, stop, manipulation...</td>\n",
              "    </tr>\n",
              "  </tbody>\n",
              "</table>\n",
              "<p>1002 rows × 4 columns</p>\n",
              "</div>"
            ],
            "text/plain": [
              "                                                   text  ...                                              token\n",
              "0     The Canadian election is a power grab by PM Tr...  ...  [canadian, election, power, grab, pm, trudeau,...\n",
              "1     I do hope Trudeau loses the Canadian election ...  ...  [hope, trudeau, loses, canadian, election, tom...\n",
              "2     Dear Canadians, This election is a test of how...  ...  [dear, canadians, election, test, progressive,...\n",
              "3     Canadian friends: Never forget that Trudeau ha...  ...  [canadian, friends, never, forget, trudeau, ye...\n",
              "4     Sorry @theJagmeetSingh I have voted #NDP all m...  ...  [sorry, thejagmeetsingh, voted, ndp, life, ele...\n",
              "...                                                 ...  ...                                                ...\n",
              "997   This is absolutely horrible in Canada. The for...  ...  [absolutely, horrible, canada, forthcoming, el...\n",
              "998   @davidakin Trudeau imposes gun control policie...  ...  [davidakin, trudeau, imposes, gun, control, po...\n",
              "999   In Canada 🇨🇦 our election is being stolen by t...  ...  [canada, election, stolen, thugs, uneducated, ...\n",
              "1000  O'Toole amends platform on gun control, but qu...  ...  [amends, platform, gun, control, questions, re...\n",
              "1001  @JustinTrudeau STOP YOUR LIES, STOP YOUR MANIP...  ...  [justintrudeau, stop, lies, stop, manipulation...\n",
              "\n",
              "[1002 rows x 4 columns]"
            ]
          },
          "metadata": {},
          "execution_count": 16
        }
      ]
    },
    {
      "cell_type": "markdown",
      "metadata": {
        "id": "quTEIh7XzkiJ"
      },
      "source": [
        "# 2. Exploratory analysis"
      ]
    },
    {
      "cell_type": "markdown",
      "metadata": {
        "id": "ibP5NHOYC9kJ"
      },
      "source": [
        "**2.1 Determines the political party**"
      ]
    },
    {
      "cell_type": "code",
      "metadata": {
        "id": "1os9sYBMJAIA"
      },
      "source": [
        "df_elect['party']=''\n",
        "Liberal = ['liberal', 'trudeau','justintrudeau','justin']\n",
        "Conservative=['conservative','erinotoole','erin','conservatives','chadlattanzio','otoole']\n",
        "NDP=['ndp', 'thejagmeetsingh','jagmeet','singh']\n",
        "PPC=['ppc','voteppc','maximebernier','voteppcforfreedoms']\n",
        "\n",
        "for i in range(df_elect.shape[0]): #1002 rows\n",
        "    for j in range(len(df_elect.iloc[i]['token'])):\n",
        "        if df_elect.iloc[i]['token'][j] in Liberal:\n",
        "            df_elect.at[i,'party']= 'Liberal'\n",
        "        if df_elect.iloc[i]['token'][j] in Conservative:\n",
        "            df_elect.at[i,'party']= 'Conservative'\n",
        "        if df_elect.iloc[i]['token'][j] in NDP:\n",
        "            df_elect.at[i,'party']= 'NDP'     \n",
        "        if df_elect.iloc[i]['token'][j] in PPC:\n",
        "            df_elect.at[i,'party']= 'PPC'  \n"
      ],
      "execution_count": 17,
      "outputs": []
    },
    {
      "cell_type": "code",
      "metadata": {
        "id": "Ax1WQgPCttuo",
        "colab": {
          "base_uri": "https://localhost:8080/",
          "height": 589
        },
        "outputId": "e0b91563-9179-42a2-e35b-eed0a16c9185"
      },
      "source": [
        "df_elect"
      ],
      "execution_count": 18,
      "outputs": [
        {
          "output_type": "execute_result",
          "data": {
            "text/html": [
              "<div>\n",
              "<style scoped>\n",
              "    .dataframe tbody tr th:only-of-type {\n",
              "        vertical-align: middle;\n",
              "    }\n",
              "\n",
              "    .dataframe tbody tr th {\n",
              "        vertical-align: top;\n",
              "    }\n",
              "\n",
              "    .dataframe thead th {\n",
              "        text-align: right;\n",
              "    }\n",
              "</style>\n",
              "<table border=\"1\" class=\"dataframe\">\n",
              "  <thead>\n",
              "    <tr style=\"text-align: right;\">\n",
              "      <th></th>\n",
              "      <th>text</th>\n",
              "      <th>sentiment</th>\n",
              "      <th>negative_reason</th>\n",
              "      <th>token</th>\n",
              "      <th>party</th>\n",
              "    </tr>\n",
              "  </thead>\n",
              "  <tbody>\n",
              "    <tr>\n",
              "      <th>0</th>\n",
              "      <td>The Canadian election is a power grab by PM Tr...</td>\n",
              "      <td>negative</td>\n",
              "      <td>calling election early</td>\n",
              "      <td>[canadian, election, power, grab, pm, trudeau,...</td>\n",
              "      <td>Liberal</td>\n",
              "    </tr>\n",
              "    <tr>\n",
              "      <th>1</th>\n",
              "      <td>I do hope Trudeau loses the Canadian election ...</td>\n",
              "      <td>negative</td>\n",
              "      <td>covid</td>\n",
              "      <td>[hope, trudeau, loses, canadian, election, tom...</td>\n",
              "      <td>Liberal</td>\n",
              "    </tr>\n",
              "    <tr>\n",
              "      <th>2</th>\n",
              "      <td>Dear Canadians, This election is a test of how...</td>\n",
              "      <td>positive</td>\n",
              "      <td>NaN</td>\n",
              "      <td>[dear, canadians, election, test, progressive,...</td>\n",
              "      <td></td>\n",
              "    </tr>\n",
              "    <tr>\n",
              "      <th>3</th>\n",
              "      <td>Canadian friends: Never forget that Trudeau ha...</td>\n",
              "      <td>negative</td>\n",
              "      <td>calling election early</td>\n",
              "      <td>[canadian, friends, never, forget, trudeau, ye...</td>\n",
              "      <td>Liberal</td>\n",
              "    </tr>\n",
              "    <tr>\n",
              "      <th>4</th>\n",
              "      <td>Sorry @theJagmeetSingh I have voted #NDP all m...</td>\n",
              "      <td>positive</td>\n",
              "      <td>NaN</td>\n",
              "      <td>[sorry, thejagmeetsingh, voted, ndp, life, ele...</td>\n",
              "      <td>PPC</td>\n",
              "    </tr>\n",
              "    <tr>\n",
              "      <th>...</th>\n",
              "      <td>...</td>\n",
              "      <td>...</td>\n",
              "      <td>...</td>\n",
              "      <td>...</td>\n",
              "      <td>...</td>\n",
              "    </tr>\n",
              "    <tr>\n",
              "      <th>997</th>\n",
              "      <td>This is absolutely horrible in Canada. The for...</td>\n",
              "      <td>negative</td>\n",
              "      <td>others</td>\n",
              "      <td>[absolutely, horrible, canada, forthcoming, el...</td>\n",
              "      <td></td>\n",
              "    </tr>\n",
              "    <tr>\n",
              "      <th>998</th>\n",
              "      <td>@davidakin Trudeau imposes gun control policie...</td>\n",
              "      <td>negative</td>\n",
              "      <td>gun control</td>\n",
              "      <td>[davidakin, trudeau, imposes, gun, control, po...</td>\n",
              "      <td>Conservative</td>\n",
              "    </tr>\n",
              "    <tr>\n",
              "      <th>999</th>\n",
              "      <td>In Canada 🇨🇦 our election is being stolen by t...</td>\n",
              "      <td>negative</td>\n",
              "      <td>others</td>\n",
              "      <td>[canada, election, stolen, thugs, uneducated, ...</td>\n",
              "      <td></td>\n",
              "    </tr>\n",
              "    <tr>\n",
              "      <th>1000</th>\n",
              "      <td>O'Toole amends platform on gun control, but qu...</td>\n",
              "      <td>negative</td>\n",
              "      <td>tell lies</td>\n",
              "      <td>[amends, platform, gun, control, questions, re...</td>\n",
              "      <td>Conservative</td>\n",
              "    </tr>\n",
              "    <tr>\n",
              "      <th>1001</th>\n",
              "      <td>@JustinTrudeau STOP YOUR LIES, STOP YOUR MANIP...</td>\n",
              "      <td>negative</td>\n",
              "      <td>tell lies</td>\n",
              "      <td>[justintrudeau, stop, lies, stop, manipulation...</td>\n",
              "      <td>Liberal</td>\n",
              "    </tr>\n",
              "  </tbody>\n",
              "</table>\n",
              "<p>1002 rows × 5 columns</p>\n",
              "</div>"
            ],
            "text/plain": [
              "                                                   text  ...         party\n",
              "0     The Canadian election is a power grab by PM Tr...  ...       Liberal\n",
              "1     I do hope Trudeau loses the Canadian election ...  ...       Liberal\n",
              "2     Dear Canadians, This election is a test of how...  ...              \n",
              "3     Canadian friends: Never forget that Trudeau ha...  ...       Liberal\n",
              "4     Sorry @theJagmeetSingh I have voted #NDP all m...  ...           PPC\n",
              "...                                                 ...  ...           ...\n",
              "997   This is absolutely horrible in Canada. The for...  ...              \n",
              "998   @davidakin Trudeau imposes gun control policie...  ...  Conservative\n",
              "999   In Canada 🇨🇦 our election is being stolen by t...  ...              \n",
              "1000  O'Toole amends platform on gun control, but qu...  ...  Conservative\n",
              "1001  @JustinTrudeau STOP YOUR LIES, STOP YOUR MANIP...  ...       Liberal\n",
              "\n",
              "[1002 rows x 5 columns]"
            ]
          },
          "metadata": {},
          "execution_count": 18
        }
      ]
    },
    {
      "cell_type": "code",
      "metadata": {
        "id": "Tnero_6kjBnL",
        "colab": {
          "base_uri": "https://localhost:8080/"
        },
        "outputId": "f4e5f3b4-d995-49f2-b859-d29c0f7ef8c3"
      },
      "source": [
        "#Check how many tweets for each party\n",
        "num_Liberal = df_elect[df_elect['party'] =='Liberal']['party'].count()\n",
        "print(\"number of Liberal party\", num_Liberal)\n",
        "num_Conservative = df_elect[df_elect['party'] =='Conservative']['party'].count()\n",
        "print(\"number of Conservative party\", num_Conservative)\n",
        "num_NDP = df_elect[df_elect['party'] =='NDP']['party'].count()\n",
        "print(\"number of NDP party\", num_NDP)\n",
        "num_PPC = df_elect[df_elect['party'] =='PPC']['party'].count()\n",
        "print(\"number of PPC party\", num_PPC)\n",
        "\n",
        "#Check how many positive/negative tweets for Liberal\n",
        "num_Liberal_positive = df_elect[(df_elect['party'] ==\"Liberal\") & (df_elect['sentiment'] =='positive')]['party'].count()\n",
        "num_Liberal_negative = df_elect[(df_elect['party'] ==\"Liberal\") & (df_elect['sentiment'] =='negative')]['party'].count()\n",
        "print(\"number of positive tweet for Liberal party\", num_Liberal_positive)\n",
        "print(\"number of negative tweet for Liberal party\", num_Liberal_negative)\n",
        "\n",
        "#Check how many positive/negative tweets for Conservative\n",
        "num_Conservative_positive = df_elect[(df_elect['party'] ==\"Conservative\") & (df_elect['sentiment'] =='positive')]['party'].count()\n",
        "num_Conservative_negative = df_elect[(df_elect['party'] ==\"Conservative\") & (df_elect['sentiment'] =='negative')]['party'].count()\n",
        "print(\"number of positive tweet for Conservative party\", num_Conservative_positive)\n",
        "print(\"number of negative tweet for Conservative party\", num_Conservative_negative)\n",
        "\n",
        "#Check how many positive/negative tweets for NDP\n",
        "num_NDP_positive = df_elect[(df_elect['party'] ==\"NDP\") & (df_elect['sentiment'] =='positive')]['party'].count()\n",
        "num_NDP_negative = df_elect[(df_elect['party'] ==\"NDP\") & (df_elect['sentiment'] =='negative')]['party'].count()\n",
        "print(\"number of positive tweet for NDP party\", num_NDP_positive)\n",
        "print(\"number of negative tweet for NDP party\", num_NDP_negative)\n",
        "\n",
        "#Check how many positive/negative tweets for Conservative\n",
        "num_PPC_positive = df_elect[(df_elect['party'] ==\"PPC\") & (df_elect['sentiment'] =='positive')]['party'].count()\n",
        "num_PPC_negative = df_elect[(df_elect['party'] ==\"PPC\") & (df_elect['sentiment'] =='negative')]['party'].count()\n",
        "print(\"number of positive tweet for PPC party\", num_PPC_positive)\n",
        "print(\"number of negative tweet for PPC party\", num_PPC_negative)"
      ],
      "execution_count": 19,
      "outputs": [
        {
          "output_type": "stream",
          "name": "stdout",
          "text": [
            "number of Liberal party 330\n",
            "number of Conservative party 225\n",
            "number of NDP party 47\n",
            "number of PPC party 82\n",
            "number of positive tweet for Liberal party 163\n",
            "number of negative tweet for Liberal party 167\n",
            "number of positive tweet for Conservative party 132\n",
            "number of negative tweet for Conservative party 93\n",
            "number of positive tweet for NDP party 38\n",
            "number of negative tweet for NDP party 9\n",
            "number of positive tweet for PPC party 63\n",
            "number of negative tweet for PPC party 19\n"
          ]
        }
      ]
    },
    {
      "cell_type": "markdown",
      "metadata": {
        "id": "lcu4DBZr24xy"
      },
      "source": [
        "**2.2 Graphical Figures**\n",
        "\n",
        "2.2.1 Canadian_election_2021.csv"
      ]
    },
    {
      "cell_type": "code",
      "metadata": {
        "id": "tz-uBGIR4FHb",
        "colab": {
          "base_uri": "https://localhost:8080/",
          "height": 258
        },
        "outputId": "1e953dc1-9a72-453e-d829-4981b16714db"
      },
      "source": [
        "# A histogram showing the number of negative or positive sentiments.\n",
        "import matplotlib.pyplot as plt\n",
        "plt.figure(figsize = (5,3))\n",
        "plt.hist(df_elect['sentiment'])\n",
        "plt.ylabel('Counts')\n",
        "plt.xlabel('Sentiment')\n",
        "plt.xticks([0,1],['negative','positive'])\n",
        "plt.title('Histogram for Canadian Election tweet')\n",
        "#From this, you can see that there are more positive tweets than negative tweets."
      ],
      "execution_count": 20,
      "outputs": [
        {
          "output_type": "execute_result",
          "data": {
            "text/plain": [
              "Text(0.5, 1.0, 'Histogram for Canadian Election tweet')"
            ]
          },
          "metadata": {},
          "execution_count": 20
        },
        {
          "output_type": "display_data",
          "data": {
            "image/png": "[encoded data removed]",
            "text/plain": [
              "<Figure size 360x216 with 1 Axes>"
            ]
          },
          "metadata": {
            "needs_background": "light"
          }
        }
      ]
    },
    {
      "cell_type": "code",
      "metadata": {
        "id": "Ychg8AUdAz4L",
        "colab": {
          "base_uri": "https://localhost:8080/",
          "height": 334
        },
        "outputId": "8346fbd2-9b5f-4b79-cc79-8bebb1e55a66"
      },
      "source": [
        "#Determine if the tweet length is correlated with the sentiment.\n",
        "df_elect['length']=df_elect['token'].apply(len)\n",
        "df_elect.hist('length',by='sentiment')\n",
        "#The distributions of length for both positive and negative are similar but the positive sentimental tweet is more left skewed. \n",
        "#The negative sentiment tweet tends to have more words. "
      ],
      "execution_count": 21,
      "outputs": [
        {
          "output_type": "execute_result",
          "data": {
            "text/plain": [
              "array([<matplotlib.axes._subplots.AxesSubplot object at 0x7fb45cea6d50>,\n",
              "       <matplotlib.axes._subplots.AxesSubplot object at 0x7fb45ce0d8d0>],\n",
              "      dtype=object)"
            ]
          },
          "metadata": {},
          "execution_count": 21
        },
        {
          "output_type": "display_data",
          "data": {
            "image/png": "[encoded data removed]",
            "text/plain": [
              "<Figure size 432x288 with 2 Axes>"
            ]
          },
          "metadata": {
            "needs_background": "light"
          }
        }
      ]
    },
    {
      "cell_type": "code",
      "metadata": {
        "id": "3SUGJOPSoIWQ",
        "colab": {
          "base_uri": "https://localhost:8080/",
          "height": 312
        },
        "outputId": "4a01cdff-9ae2-4f94-e369-48f85d293021"
      },
      "source": [
        "#Plot for the tweet counts for each party\n",
        "plt.hist(df_elect['party'])\n",
        "plt.ylabel('Counts')\n",
        "plt.xlabel('Parties')\n",
        "plt.xticks([0,1,2,3,4],['Liberal','unknown','PPC','Conservative','NDP'])\n",
        "plt.title('Histogram for Canadian Election tweet counts for each party')\n",
        "\n",
        "# The mojority tweets are about Liberal, and the second most tweets are about Conservative, Then PPC and NDP."
      ],
      "execution_count": 22,
      "outputs": [
        {
          "output_type": "execute_result",
          "data": {
            "text/plain": [
              "Text(0.5, 1.0, 'Histogram for Canadian Election tweet counts for each party')"
            ]
          },
          "metadata": {},
          "execution_count": 22
        },
        {
          "output_type": "display_data",
          "data": {
            "image/png": "[encoded data removed]",
            "text/plain": [
              "<Figure size 432x288 with 1 Axes>"
            ]
          },
          "metadata": {
            "needs_background": "light"
          }
        }
      ]
    },
    {
      "cell_type": "code",
      "metadata": {
        "id": "T1MgzibauSiC",
        "colab": {
          "base_uri": "https://localhost:8080/",
          "height": 350
        },
        "outputId": "6971a230-47b8-4754-d96f-cc9dd1c2a3e0"
      },
      "source": [
        "import seaborn as sns\n",
        "fig, ax = plt.subplots(figsize = (7,5))\n",
        "ax = sns.countplot(x='party', hue='sentiment', data=df_elect)\n",
        "ax.set(xlabel='parties', ylabel='Number of tweets', title = \"Postive/Negative sentiment toward each party\")\n",
        "plt.xticks([0,1,2,3,4,5],['Liberal','unknown','PPC','Conservative','NDP'])\n",
        "plt.show()\n",
        "#Almost half of the Liberal related tweets have the positive sentiment, and half of the Liberal related tweets are againt the Liberal.  \n",
        "# PPC, Conservative and NDP has more positive sentiment tweets than the negative sentiment tweets. "
      ],
      "execution_count": 23,
      "outputs": [
        {
          "output_type": "display_data",
          "data": {
            "image/png": "[encoded data removed]",
            "text/plain": [
              "<Figure size 504x360 with 1 Axes>"
            ]
          },
          "metadata": {
            "needs_background": "light"
          }
        }
      ]
    },
    {
      "cell_type": "code",
      "metadata": {
        "id": "nUvXd9wT_QbB",
        "colab": {
          "base_uri": "https://localhost:8080/",
          "height": 254
        },
        "outputId": "05f21657-3b2b-4135-c322-b53dc05c70a0"
      },
      "source": [
        "from wordcloud import WordCloud\n",
        "wordcloud_elect = WordCloud(background_color=\"white\").generate(str(df_elect[\"token\"].ravel()))\n",
        "plt.figure(figsize = (8,6))\n",
        "plt.imshow(wordcloud_elect, interpolation='bilinear')\n",
        "plt.axis(\"off\")\n",
        "plt.show()"
      ],
      "execution_count": 24,
      "outputs": [
        {
          "output_type": "display_data",
          "data": {
            "image/png": "[encoded data removed]",
            "text/plain": [
              "<Figure size 576x432 with 1 Axes>"
            ]
          },
          "metadata": {
            "needs_background": "light"
          }
        }
      ]
    },
    {
      "cell_type": "markdown",
      "metadata": {
        "id": "Du3eDzRT4BkV"
      },
      "source": [
        "2.2.2 sentiment_analysis.csv"
      ]
    },
    {
      "cell_type": "code",
      "metadata": {
        "id": "x_1qiFeazpKn",
        "colab": {
          "base_uri": "https://localhost:8080/",
          "height": 258
        },
        "outputId": "a8625206-75e0-4465-cb9e-54b9eb09a7aa"
      },
      "source": [
        "# A histogram showing the number of negative or positive sentiments.\n",
        "import matplotlib.pyplot as plt\n",
        "plt.figure(figsize = (5,3))\n",
        "plt.hist(df_sent['label'])\n",
        "plt.ylabel('Counts')\n",
        "plt.xlabel('Sentiment')\n",
        "plt.xticks([0,1],['negative','positive'])\n",
        "plt.title('Histogram for sentiment_analysis tweet')\n",
        "#From this, you can see that there are more positive tweets than negative tweets."
      ],
      "execution_count": 25,
      "outputs": [
        {
          "output_type": "execute_result",
          "data": {
            "text/plain": [
              "Text(0.5, 1.0, 'Histogram for sentiment_analysis tweet')"
            ]
          },
          "metadata": {},
          "execution_count": 25
        },
        {
          "output_type": "display_data",
          "data": {
            "image/png": "[encoded data removed]",
            "text/plain": [
              "<Figure size 360x216 with 1 Axes>"
            ]
          },
          "metadata": {
            "needs_background": "light"
          }
        }
      ]
    },
    {
      "cell_type": "code",
      "metadata": {
        "id": "VZIpA9ko_WRm",
        "colab": {
          "base_uri": "https://localhost:8080/",
          "height": 340
        },
        "outputId": "510867e2-01ad-4b5c-a6a8-4460b33553de"
      },
      "source": [
        "df_sent['length']=df_sent['token'].apply(len)\n",
        "df_sent.hist('length',by='label')\n",
        "#The distributions of length for both positive and negative are similar but the tail for positive tweets is a little heavier than for negative tweets.\n",
        "#The sentiment and the length of the tweet is not correlated. "
      ],
      "execution_count": 26,
      "outputs": [
        {
          "output_type": "execute_result",
          "data": {
            "text/plain": [
              "array([<matplotlib.axes._subplots.AxesSubplot object at 0x7fb45c3dee10>,\n",
              "       <matplotlib.axes._subplots.AxesSubplot object at 0x7fb45c33e150>],\n",
              "      dtype=object)"
            ]
          },
          "metadata": {},
          "execution_count": 26
        },
        {
          "output_type": "display_data",
          "data": {
            "image/png": "[encoded data removed]",
            "text/plain": [
              "<Figure size 432x288 with 2 Axes>"
            ]
          },
          "metadata": {
            "needs_background": "light"
          }
        }
      ]
    },
    {
      "cell_type": "code",
      "metadata": {
        "id": "SrERB9Fo6-cn",
        "colab": {
          "base_uri": "https://localhost:8080/",
          "height": 254
        },
        "outputId": "33a88ab1-a0f2-4428-99a7-15c29e5827e6"
      },
      "source": [
        "from wordcloud import WordCloud\n",
        "wordcloud_sent = WordCloud(background_color=\"white\").generate(str(df_sent[\"token\"].ravel()))\n",
        "plt.figure(figsize = (8,6))\n",
        "plt.imshow(wordcloud_sent, interpolation='bilinear')\n",
        "plt.axis(\"off\")\n",
        "plt.show()"
      ],
      "execution_count": 27,
      "outputs": [
        {
          "output_type": "display_data",
          "data": {
            "image/png": "[encoded data removed]",
            "text/plain": [
              "<Figure size 576x432 with 1 Axes>"
            ]
          },
          "metadata": {
            "needs_background": "light"
          }
        }
      ]
    },
    {
      "cell_type": "markdown",
      "metadata": {
        "id": "ZjbdBJjdBdgY"
      },
      "source": [
        "#3. Model preparation"
      ]
    },
    {
      "cell_type": "markdown",
      "metadata": {
        "id": "bxsA-X8K34d-"
      },
      "source": [
        "**3.1 Bag of Word**"
      ]
    },
    {
      "cell_type": "code",
      "metadata": {
        "id": "bvUxGA9LScmM"
      },
      "source": [
        "#Obtain the bag of word matrix\n",
        "from sklearn.feature_extraction.text import CountVectorizer\n",
        "import numpy as np\n",
        "words = df_sent['token'] #Convert the token column into bag of word matrix\n",
        "vectorizer = CountVectorizer(max_features = 1000)\n",
        "vector_model = vectorizer.fit(words)\n",
        "X_BW= vector_model.transform(words)"
      ],
      "execution_count": 28,
      "outputs": []
    },
    {
      "cell_type": "code",
      "metadata": {
        "id": "RllZPYGjB-oU"
      },
      "source": [
        "from sklearn.model_selection import train_test_split\n",
        "y = df_sent['label']\n",
        "X_train_BW, X_test_BW, y_train_BW, y_test_BW = train_test_split(X_BW,y,test_size=0.3) \n",
        "#Split the data into 30% test set and 70% training set."
      ],
      "execution_count": 29,
      "outputs": []
    },
    {
      "cell_type": "markdown",
      "metadata": {
        "id": "iqmDQQEb4Sbi"
      },
      "source": [
        "**3.2 TF-IDF**"
      ]
    },
    {
      "cell_type": "code",
      "metadata": {
        "id": "L3ZUF64I4RRH"
      },
      "source": [
        "from sklearn.feature_extraction.text import TfidfVectorizer\n",
        "words = df_sent['token'] #Convert the token column into TF-IDF matrix\n",
        "vectfidf = TfidfVectorizer(max_features = 1000)\n",
        "vectfidf_model = vectfidf.fit(words)\n",
        "X_TF = vectfidf_model.transform(words)"
      ],
      "execution_count": 30,
      "outputs": []
    },
    {
      "cell_type": "code",
      "metadata": {
        "id": "h8yQJ6d_5bsL"
      },
      "source": [
        "from sklearn.model_selection import train_test_split\n",
        "y = df_sent['label']\n",
        "X_train_TF, X_test_TF, y_train_TF, y_test_TF = train_test_split(X_TF,y,test_size=0.3) \n",
        "#Split the data into 30% test set and 70% training set."
      ],
      "execution_count": 31,
      "outputs": []
    },
    {
      "cell_type": "markdown",
      "metadata": {
        "id": "TGiCGQN-4HjM"
      },
      "source": [
        "#4. Model implementation and tuning\n",
        "\n",
        "**4.1 Perform Bag of Words and TF-IDF on generic tweets**\n",
        "\n",
        "**4.1.1 Bag of Word for generic tweets**"
      ]
    },
    {
      "cell_type": "code",
      "metadata": {
        "id": "QGHYGvFuwMoJ",
        "colab": {
          "base_uri": "https://localhost:8080/"
        },
        "outputId": "f4af5928-6bbc-487e-8795-6adfb11cc74f"
      },
      "source": [
        "#Logistic Regression\n",
        "from sklearn.linear_model import LogisticRegression\n",
        "model1 = LogisticRegression()\n",
        "model1.fit(X_train_BW,y_train_BW)\n",
        "\n",
        "from sklearn.metrics import accuracy_score\n",
        "predictions1 = model1.predict(X_test_BW)\n",
        "accuracy1 = accuracy_score(y_test_BW, predictions1)\n",
        "print(\"test accuracy for logistic regression is: {}%\".format(accuracy1*100))"
      ],
      "execution_count": 32,
      "outputs": [
        {
          "output_type": "stream",
          "name": "stdout",
          "text": [
            "test accuracy for logistic regression is: 94.23079252413426%\n"
          ]
        },
        {
          "output_type": "stream",
          "name": "stderr",
          "text": [
            "/usr/local/lib/python3.7/dist-packages/sklearn/linear_model/_logistic.py:818: ConvergenceWarning: lbfgs failed to converge (status=1):\n",
            "STOP: TOTAL NO. of ITERATIONS REACHED LIMIT.\n",
            "\n",
            "Increase the number of iterations (max_iter) or scale the data as shown in:\n",
            "    https://scikit-learn.org/stable/modules/preprocessing.html\n",
            "Please also refer to the documentation for alternative solver options:\n",
            "    https://scikit-learn.org/stable/modules/linear_model.html#logistic-regression\n",
            "  extra_warning_msg=_LOGISTIC_SOLVER_CONVERGENCE_MSG,\n"
          ]
        }
      ]
    },
    {
      "cell_type": "code",
      "metadata": {
        "colab": {
          "base_uri": "https://localhost:8080/"
        },
        "id": "4QHqPA157AMh",
        "outputId": "9d374dfa-1420-4386-a185-1b9ff2f472a0"
      },
      "source": [
        "#KNN\n",
        "from sklearn.neighbors import KNeighborsClassifier\n",
        "\n",
        "clf2 = KNeighborsClassifier(n_neighbors = 5)\n",
        "model2=clf2.fit(X_test_BW, y_test_BW)\n",
        "predictions2 = model2.predict(X_test_BW)\n",
        "accuracy2 = accuracy_score(y_test_BW, predictions2)\n",
        "print(\"testing accuracy for KNN is: {}%\".format(accuracy2*100))"
      ],
      "execution_count": 45,
      "outputs": [
        {
          "output_type": "stream",
          "name": "stdout",
          "text": [
            "testing accuracy for KNN is: 93.05345268232415%\n"
          ]
        }
      ]
    },
    {
      "cell_type": "code",
      "metadata": {
        "colab": {
          "base_uri": "https://localhost:8080/"
        },
        "id": "UZWVZelYsDbi",
        "outputId": "59e19f53-017c-41f0-aaf0-d69b163d0dc8"
      },
      "source": [
        "#Naive Bayes\n",
        "from sklearn.naive_bayes import MultinomialNB\n",
        "clf3 = MultinomialNB()\n",
        "model3=clf3.fit(X_train_BW, y_train_BW)\n",
        "predictions3 = model3.predict(X_test_BW)\n",
        "accuracy3 = accuracy_score(y_test_BW, predictions3)\n",
        "print(\"testing accuracy for Naive Bayes is: {}%\".format(accuracy3*100))"
      ],
      "execution_count": 33,
      "outputs": [
        {
          "output_type": "stream",
          "name": "stdout",
          "text": [
            "testing accuracy for Naive Bayes is: 89.69403699172713%\n"
          ]
        }
      ]
    },
    {
      "cell_type": "code",
      "metadata": {
        "id": "_0KgKtLeI91F",
        "colab": {
          "base_uri": "https://localhost:8080/"
        },
        "outputId": "3546a592-6ce6-4998-c533-1d80f2cb0c6a"
      },
      "source": [
        "#SVM\n",
        "from sklearn.svm import LinearSVC\n",
        "from sklearn.pipeline import make_pipeline\n",
        "from sklearn.preprocessing import StandardScaler\n",
        "\n",
        "clf4 = make_pipeline(StandardScaler(with_mean=False), LinearSVC())\n",
        "model4=clf4.fit(X_train_BW, y_train_BW)\n",
        "predictions4 = model4.predict(X_test_BW)\n",
        "accuracy4 = accuracy_score(y_test_BW, predictions4)\n",
        "print(\"testing accuracy for SVM is: {}%\".format(accuracy4*100))"
      ],
      "execution_count": 34,
      "outputs": [
        {
          "output_type": "stream",
          "name": "stdout",
          "text": [
            "testing accuracy for SVM is: 92.91597524194817%\n"
          ]
        },
        {
          "output_type": "stream",
          "name": "stderr",
          "text": [
            "/usr/local/lib/python3.7/dist-packages/sklearn/svm/_base.py:1208: ConvergenceWarning: Liblinear failed to converge, increase the number of iterations.\n",
            "  ConvergenceWarning,\n"
          ]
        }
      ]
    },
    {
      "cell_type": "code",
      "metadata": {
        "id": "WJINT9SVC7qx",
        "colab": {
          "base_uri": "https://localhost:8080/"
        },
        "outputId": "d1cfa356-b079-436f-f711-042a1a54e06c"
      },
      "source": [
        "#Decision trees\n",
        "from sklearn.tree import DecisionTreeClassifier\n",
        "clf5 = DecisionTreeClassifier(random_state=0)\n",
        "model5=clf5.fit(X_train_BW, y_train_BW)\n",
        "predictions5 = model5.predict(X_test_BW)\n",
        "accuracy5 = accuracy_score(y_test_BW, predictions5)\n",
        "print(\"testing accuracy for Decision Trees is: {}%\".format(accuracy5*100))"
      ],
      "execution_count": 51,
      "outputs": [
        {
          "output_type": "stream",
          "name": "stdout",
          "text": [
            "testing accuracy for Decision Trees is: 92.58590825954772%\n"
          ]
        }
      ]
    },
    {
      "cell_type": "code",
      "metadata": {
        "id": "hv4GJGJvEMGL",
        "colab": {
          "base_uri": "https://localhost:8080/"
        },
        "outputId": "30fc5b5d-f5fd-481e-cdb0-427b9499fe2b"
      },
      "source": [
        "#Random Forest\n",
        "from sklearn.ensemble import RandomForestClassifier\n",
        "clf6 = RandomForestClassifier(max_depth=2, random_state=0)\n",
        "model6=clf6.fit(X_train_BW, y_train_BW)\n",
        "predictions6 = model6.predict(X_test_BW)\n",
        "accuracy6 = accuracy_score(y_test_BW, predictions6)\n",
        "print(\"testing accuracy for Random Forest is: {}%\".format(accuracy6*100))"
      ],
      "execution_count": 52,
      "outputs": [
        {
          "output_type": "stream",
          "name": "stdout",
          "text": [
            "testing accuracy for Random Forest is: 67.58742232827433%\n"
          ]
        }
      ]
    },
    {
      "cell_type": "code",
      "metadata": {
        "id": "BTRRwTToE18W",
        "colab": {
          "base_uri": "https://localhost:8080/"
        },
        "outputId": "15fcefcf-e5e0-4761-f03f-a762dc19a1b1"
      },
      "source": [
        "#XGBoost\n",
        "import xgboost as xgb\n",
        "clf7 = xgb.XGBClassifier()\n",
        "model7 = clf7.fit(X_train_BW, y_train_BW)\n",
        "predictions7 = model7.predict(X_test_BW)\n",
        "accuracy7 = accuracy_score(y_test_BW, predictions7)\n",
        "print(\"testing accuracy for XGBoost is: {}%\".format(accuracy7*100))"
      ],
      "execution_count": 53,
      "outputs": [
        {
          "output_type": "stream",
          "name": "stdout",
          "text": [
            "testing accuracy for XGBoost is: 85.94520282464661%\n"
          ]
        }
      ]
    },
    {
      "cell_type": "markdown",
      "metadata": {
        "id": "MYFIS8ws51st"
      },
      "source": [
        "**4.1.2 TF-IDF for generic tweets**"
      ]
    },
    {
      "cell_type": "code",
      "metadata": {
        "colab": {
          "base_uri": "https://localhost:8080/"
        },
        "id": "lvGwLIIi504q",
        "outputId": "9c205768-92b9-45cb-e112-e529a73886db"
      },
      "source": [
        "#Logistic Regression\n",
        "\n",
        "from sklearn.linear_model import LogisticRegression\n",
        "modela = LogisticRegression()\n",
        "modela.fit(X_train_TF,y_train_TF)\n",
        "\n",
        "from sklearn.metrics import accuracy_score\n",
        "predictionsa = modela.predict(X_test_TF)\n",
        "accuracya = accuracy_score(y_test_TF,predictionsa)\n",
        "print(\"test accuracy for logistic regression is: {}%\".format(accuracya*100))"
      ],
      "execution_count": 54,
      "outputs": [
        {
          "output_type": "stream",
          "name": "stdout",
          "text": [
            "test accuracy for logistic regression is: 94.15145532286002%\n"
          ]
        },
        {
          "output_type": "stream",
          "name": "stderr",
          "text": [
            "/usr/local/lib/python3.7/dist-packages/sklearn/linear_model/_logistic.py:818: ConvergenceWarning: lbfgs failed to converge (status=1):\n",
            "STOP: TOTAL NO. of ITERATIONS REACHED LIMIT.\n",
            "\n",
            "Increase the number of iterations (max_iter) or scale the data as shown in:\n",
            "    https://scikit-learn.org/stable/modules/preprocessing.html\n",
            "Please also refer to the documentation for alternative solver options:\n",
            "    https://scikit-learn.org/stable/modules/linear_model.html#logistic-regression\n",
            "  extra_warning_msg=_LOGISTIC_SOLVER_CONVERGENCE_MSG,\n"
          ]
        }
      ]
    },
    {
      "cell_type": "code",
      "metadata": {
        "colab": {
          "base_uri": "https://localhost:8080/"
        },
        "id": "P6ea3nizn9fd",
        "outputId": "2b52636a-e8b5-40f6-8f83-6eb43adca7b6"
      },
      "source": [
        "#KNN\n",
        "from sklearn.neighbors import KNeighborsClassifier\n",
        "\n",
        "clfb = KNeighborsClassifier(n_neighbors = 5)\n",
        "modelb=clfb.fit(X_test_TF, y_test_TF)\n",
        "predictionsb = modelb.predict(X_test_TF)\n",
        "accuracyb = accuracy_score(y_test_TF, predictionsb)\n",
        "print(\"testing accuracy for KNN is: {}%\".format(accuracyb*100))"
      ],
      "execution_count": 55,
      "outputs": [
        {
          "output_type": "stream",
          "name": "stdout",
          "text": [
            "testing accuracy for KNN is: 88.89279182160637%\n"
          ]
        }
      ]
    },
    {
      "cell_type": "code",
      "metadata": {
        "colab": {
          "base_uri": "https://localhost:8080/"
        },
        "id": "Vfe_fUS0tirm",
        "outputId": "78722d56-cb0a-40ca-c09e-77cc03e59899"
      },
      "source": [
        "#Naive Bayes\n",
        "from sklearn.naive_bayes import MultinomialNB\n",
        "clfc = MultinomialNB()\n",
        "modelc=clfc.fit(X_train_TF, y_train_TF)\n",
        "predictionsc = modelc.predict(X_test_TF)\n",
        "accuracyc = accuracy_score(y_test_TF, predictionsc)\n",
        "print(\"testing accuracy for Naive Bayes is: {}%\".format(accuracyc*100))"
      ],
      "execution_count": 56,
      "outputs": [
        {
          "output_type": "stream",
          "name": "stdout",
          "text": [
            "testing accuracy for Naive Bayes is: 88.75470875373975%\n"
          ]
        }
      ]
    },
    {
      "cell_type": "code",
      "metadata": {
        "id": "oVT8wjxZCsfl",
        "colab": {
          "base_uri": "https://localhost:8080/"
        },
        "outputId": "ba668fec-5d2f-4e20-b59f-b90f9eaa9a35"
      },
      "source": [
        "#SVM\n",
        "from sklearn import svm\n",
        "clfd = make_pipeline(StandardScaler(with_mean=False), LinearSVC())\n",
        "modeld=clfd.fit(X_train_TF, y_train_TF)\n",
        "predictionsd = modeld.predict(X_test_TF)\n",
        "accuracyd = accuracy_score(y_test_TF, predictionsd)\n",
        "print(\"testing accuracy for SVM is: {}%\".format(accuracyd*100))"
      ],
      "execution_count": 58,
      "outputs": [
        {
          "output_type": "stream",
          "name": "stdout",
          "text": [
            "testing accuracy for SVM is: 92.35455855812206%\n"
          ]
        },
        {
          "output_type": "stream",
          "name": "stderr",
          "text": [
            "/usr/local/lib/python3.7/dist-packages/sklearn/svm/_base.py:1208: ConvergenceWarning: Liblinear failed to converge, increase the number of iterations.\n",
            "  ConvergenceWarning,\n"
          ]
        }
      ]
    },
    {
      "cell_type": "code",
      "metadata": {
        "id": "Yb34jzlPEB_Y",
        "colab": {
          "base_uri": "https://localhost:8080/"
        },
        "outputId": "dc06d203-6cbe-477c-c220-57773a6a7b54"
      },
      "source": [
        "#Decision trees\n",
        "from sklearn.tree import DecisionTreeClassifier\n",
        "clfe = DecisionTreeClassifier(random_state=0)\n",
        "modele=clfe.fit(X_train_TF, y_train_TF)\n",
        "predictionse = modele.predict(X_test_TF)\n",
        "accuracye = accuracy_score(y_test_TF, predictionse)\n",
        "print(\"testing accuracy for Decision Trees is: {}%\".format(accuracye*100))"
      ],
      "execution_count": 59,
      "outputs": [
        {
          "output_type": "stream",
          "name": "stdout",
          "text": [
            "testing accuracy for Decision Trees is: 92.85238435543066%\n"
          ]
        }
      ]
    },
    {
      "cell_type": "code",
      "metadata": {
        "id": "V5prT6CrEu5N",
        "colab": {
          "base_uri": "https://localhost:8080/"
        },
        "outputId": "c18f8576-fb32-44de-c0d9-c8048be712ae"
      },
      "source": [
        "#Random Forest\n",
        "from sklearn.ensemble import RandomForestClassifier\n",
        "clff = RandomForestClassifier(max_depth=2, random_state=0)\n",
        "modelf=clff.fit(X_train_TF, y_train_TF)\n",
        "predictionsf = modelf.predict(X_test_TF)\n",
        "accuracyf = accuracy_score(y_test_TF, predictionsf)\n",
        "print(\"testing accuracy for Random Forest is: {}%\".format(accuracyf*100))"
      ],
      "execution_count": 60,
      "outputs": [
        {
          "output_type": "stream",
          "name": "stdout",
          "text": [
            "testing accuracy for Random Forest is: 67.4057340810814%\n"
          ]
        }
      ]
    },
    {
      "cell_type": "code",
      "metadata": {
        "id": "7-3Mna86F4hr",
        "colab": {
          "base_uri": "https://localhost:8080/"
        },
        "outputId": "7044db8a-eb86-4e3d-b5c9-31853ef025a6"
      },
      "source": [
        "#XGBoost\n",
        "import xgboost as xgb\n",
        "clfg = xgb.XGBClassifier()\n",
        "modelg = clfg.fit(X_train_TF, y_train_TF)\n",
        "predictionsg = modelg.predict(X_test_TF)\n",
        "accuracyg = accuracy_score(y_test_TF, predictionsg)\n",
        "print(\"testing accuracy for XGBoost is: {}%\".format(accuracyg*100))"
      ],
      "execution_count": 61,
      "outputs": [
        {
          "output_type": "stream",
          "name": "stdout",
          "text": [
            "testing accuracy for XGBoost is: 86.2250027253237%\n"
          ]
        }
      ]
    },
    {
      "cell_type": "markdown",
      "metadata": {
        "id": "hOT09u8yWpLd"
      },
      "source": [
        "**4.1.3 Comparison of seven algorithms and two type of features**"
      ]
    },
    {
      "cell_type": "code",
      "metadata": {
        "id": "qrPqvZmgH7WB",
        "colab": {
          "base_uri": "https://localhost:8080/",
          "height": 266
        },
        "outputId": "b2632e3a-afa6-4014-d50a-234b3ffd4565"
      },
      "source": [
        "#Show all the test accuracies in a table\n",
        "\n",
        "method=[['Logistic Regression'],['KNN'],['Naive Bayes'],['SVM'],['Decision trees'],['Random Forest'],['XGBoost']]\n",
        "bow=[accuracy1,accuracy2,accuracy3,accuracy4,accuracy5,accuracy6,accuracy7]\n",
        "tfidf=[accuracya,accuracyb,accuracyc,accuracyd,accuracye,accuracyf,accuracyg]\n",
        "\n",
        "df_accuracy=pd.DataFrame(data=method, columns=['Algorithm'])\n",
        "df_accuracy['Bag of Word']=bow\n",
        "df_accuracy['TF-IDF']=tfidf\n",
        "df_accuracy"
      ],
      "execution_count": 71,
      "outputs": [
        {
          "output_type": "execute_result",
          "data": {
            "text/html": [
              "<div>\n",
              "<style scoped>\n",
              "    .dataframe tbody tr th:only-of-type {\n",
              "        vertical-align: middle;\n",
              "    }\n",
              "\n",
              "    .dataframe tbody tr th {\n",
              "        vertical-align: top;\n",
              "    }\n",
              "\n",
              "    .dataframe thead th {\n",
              "        text-align: right;\n",
              "    }\n",
              "</style>\n",
              "<table border=\"1\" class=\"dataframe\">\n",
              "  <thead>\n",
              "    <tr style=\"text-align: right;\">\n",
              "      <th></th>\n",
              "      <th>Algorithm</th>\n",
              "      <th>Bag of Word</th>\n",
              "      <th>TF-IDF</th>\n",
              "    </tr>\n",
              "  </thead>\n",
              "  <tbody>\n",
              "    <tr>\n",
              "      <th>0</th>\n",
              "      <td>Logistic Regression</td>\n",
              "      <td>0.941896</td>\n",
              "      <td>0.941515</td>\n",
              "    </tr>\n",
              "    <tr>\n",
              "      <th>1</th>\n",
              "      <td>KNN</td>\n",
              "      <td>0.930535</td>\n",
              "      <td>0.888928</td>\n",
              "    </tr>\n",
              "    <tr>\n",
              "      <th>2</th>\n",
              "      <td>Naive Bayes</td>\n",
              "      <td>0.897061</td>\n",
              "      <td>0.887547</td>\n",
              "    </tr>\n",
              "    <tr>\n",
              "      <th>3</th>\n",
              "      <td>SVM</td>\n",
              "      <td>0.929796</td>\n",
              "      <td>0.923546</td>\n",
              "    </tr>\n",
              "    <tr>\n",
              "      <th>4</th>\n",
              "      <td>Decision trees</td>\n",
              "      <td>0.925859</td>\n",
              "      <td>0.928524</td>\n",
              "    </tr>\n",
              "    <tr>\n",
              "      <th>5</th>\n",
              "      <td>Random Forest</td>\n",
              "      <td>0.675874</td>\n",
              "      <td>0.674057</td>\n",
              "    </tr>\n",
              "    <tr>\n",
              "      <th>6</th>\n",
              "      <td>XGBoost</td>\n",
              "      <td>0.859452</td>\n",
              "      <td>0.862250</td>\n",
              "    </tr>\n",
              "  </tbody>\n",
              "</table>\n",
              "</div>"
            ],
            "text/plain": [
              "             Algorithm  Bag of Word    TF-IDF\n",
              "0  Logistic Regression     0.941896  0.941515\n",
              "1                  KNN     0.930535  0.888928\n",
              "2          Naive Bayes     0.897061  0.887547\n",
              "3                  SVM     0.929796  0.923546\n",
              "4       Decision trees     0.925859  0.928524\n",
              "5        Random Forest     0.675874  0.674057\n",
              "6              XGBoost     0.859452  0.862250"
            ]
          },
          "metadata": {},
          "execution_count": 71
        }
      ]
    },
    {
      "cell_type": "markdown",
      "metadata": {
        "id": "HYdfUAMjH44J"
      },
      "source": [
        "Therefore, among the seven classification algorithms, Logistic Regression using bag of words method has the highest accuacy. Except Random Forest algorithm, all other algorithms for both bag of words and TF-IDF method have resonable high accuracies. None of the algorithms is overfitting, only decision trees algorith is underfitting. "
      ]
    },
    {
      "cell_type": "markdown",
      "metadata": {
        "id": "6lrMgNaGW4Bs"
      },
      "source": [
        "**4.1.4 Logistic Regression with Bag of Words on Election Data**"
      ]
    },
    {
      "cell_type": "code",
      "metadata": {
        "id": "iu9mSlYSYwrm"
      },
      "source": [
        "for i in range(df_elect.shape[0]):\n",
        "    df_elect.at[i, 'token']=' '.join(df_elect.iloc[i]['token'])"
      ],
      "execution_count": 33,
      "outputs": []
    },
    {
      "cell_type": "code",
      "metadata": {
        "id": "1M94JxyJYAn0"
      },
      "source": [
        "#Obtain the bag of word matrix\n",
        "from sklearn.feature_extraction.text import CountVectorizer\n",
        "import numpy as np\n",
        "words_elect = df_elect['token'] #Convert the token column into bag of word matrix\n",
        "vectorizer = CountVectorizer(max_features = 1000)\n",
        "vector_model_elect = vectorizer.fit(words_elect)\n",
        "X_elect= vector_model_elect.transform(words_elect)"
      ],
      "execution_count": 34,
      "outputs": []
    },
    {
      "cell_type": "code",
      "metadata": {
        "id": "3g4tlS-BYKM7"
      },
      "source": [
        "from sklearn.model_selection import train_test_split\n",
        "y_elect = df_elect['sentiment']\n",
        "X_train_elect, X_test_elect, y_train_elect, y_test_elect = train_test_split(X_elect,y_elect,test_size=0.3) \n",
        "#Split the data into 30% test set and 70% training set."
      ],
      "execution_count": 35,
      "outputs": []
    },
    {
      "cell_type": "code",
      "metadata": {
        "colab": {
          "base_uri": "https://localhost:8080/"
        },
        "id": "7Eft-5oGZSAH",
        "outputId": "d53b34e4-2645-406a-e53c-aa216b84e660"
      },
      "source": [
        "#Logistic Regression\n",
        "from sklearn.linear_model import LogisticRegression\n",
        "model_elect = LogisticRegression()\n",
        "model_elect.fit(X_train_elect,y_train_elect)\n",
        "\n",
        "from sklearn.metrics import accuracy_score\n",
        "predictions_elect = model_elect.predict(X_test_elect)\n",
        "accuracy_elect = accuracy_score(y_test_elect, predictions_elect)\n",
        "print(\"test accuracy for logistic regression is: {}%\".format(accuracy_elect*100))"
      ],
      "execution_count": 36,
      "outputs": [
        {
          "output_type": "stream",
          "name": "stdout",
          "text": [
            "test accuracy for logistic regression is: 77.74086378737542%\n"
          ]
        }
      ]
    },
    {
      "cell_type": "markdown",
      "metadata": {
        "id": "O1N3OCMvahqe"
      },
      "source": [
        "The accuracy for the election data is around 75%, which is not quite ideal. "
      ]
    },
    {
      "cell_type": "markdown",
      "metadata": {
        "id": "fxMwJNwbbNrt"
      },
      "source": [
        "**4.1.5 Other two metrics evaluating the model**"
      ]
    },
    {
      "cell_type": "code",
      "metadata": {
        "colab": {
          "base_uri": "https://localhost:8080/"
        },
        "id": "0AtHkqLBbZs0",
        "outputId": "9d6d80e1-ca85-4c0a-8690-fd18fa1cad33"
      },
      "source": [
        "#Method 1: Classification Report\n",
        "from sklearn.metrics import classification_report\n",
        "\n",
        "print(classification_report(y_test_BW,predictions1))"
      ],
      "execution_count": 37,
      "outputs": [
        {
          "output_type": "stream",
          "name": "stdout",
          "text": [
            "              precision    recall  f1-score   support\n",
            "\n",
            "           0       0.90      0.93      0.91     53516\n",
            "           1       0.97      0.95      0.96    111602\n",
            "\n",
            "    accuracy                           0.94    165118\n",
            "   macro avg       0.93      0.94      0.93    165118\n",
            "weighted avg       0.94      0.94      0.94    165118\n",
            "\n"
          ]
        }
      ]
    },
    {
      "cell_type": "code",
      "metadata": {
        "colab": {
          "base_uri": "https://localhost:8080/"
        },
        "id": "lJcspu-UbwrG",
        "outputId": "70c8042c-ff3f-4a32-9840-8bd221727689"
      },
      "source": [
        "#Method2: Confusion matrix\n",
        "from sklearn.metrics import confusion_matrix\n",
        "print (confusion_matrix(y_test_BW,predictions1))"
      ],
      "execution_count": 38,
      "outputs": [
        {
          "output_type": "stream",
          "name": "stdout",
          "text": [
            "[[ 49783   3733]\n",
            " [  5793 105809]]\n"
          ]
        }
      ]
    },
    {
      "cell_type": "markdown",
      "metadata": {
        "id": "nNL3bNPZb6_i"
      },
      "source": [
        "By analyzing the confusion matrix and classification report, the f1 score for predicting negative is 0.91 and positive is 0.96. It is more accurate when predicting positive sentiment. "
      ]
    },
    {
      "cell_type": "markdown",
      "metadata": {
        "id": "PMH8iHqjeyLE"
      },
      "source": [
        "**4.1.6 Visualization**"
      ]
    },
    {
      "cell_type": "code",
      "metadata": {
        "id": "bOGYQpHdew47"
      },
      "source": [
        "from sklearn.linear_model import LogisticRegression\n",
        "model_best = LogisticRegression()\n",
        "model_best.fit(X_elect,y_elect)\n",
        "\n",
        "from sklearn.metrics import accuracy_score\n",
        "prediction_best = model_best.predict(X_elect)\n",
        "df_elect['prediction']=prediction_best"
      ],
      "execution_count": 39,
      "outputs": []
    },
    {
      "cell_type": "code",
      "metadata": {
        "colab": {
          "base_uri": "https://localhost:8080/",
          "height": 322
        },
        "id": "zIhMeYWzyjwA",
        "outputId": "1ed4c7ec-f253-4d2a-e71c-85b1b7d934cf"
      },
      "source": [
        "import matplotlib.pyplot as plt\n",
        "plt.figure(figsize=(16,5))\n",
        "plt.subplot(1, 4, 1)\n",
        "df_liberal=df_elect[df_elect.party=='Liberal']\n",
        "x = df_liberal['sentiment']\n",
        "y = df_liberal['prediction']\n",
        "lib=plt.hist([x, y], label=['true', 'predict'])\n",
        "plt.title('Liberal')\n",
        "plt.legend()\n",
        "\n",
        "plt.subplot(1, 4, 2)\n",
        "df_Conserve=df_elect[df_elect.party=='Conservative']\n",
        "x = df_Conserve['sentiment']\n",
        "y = df_Conserve['prediction']\n",
        "con=plt.hist([x, y], label=['true', 'predict'])\n",
        "plt.title('Conservative')\n",
        "plt.legend()\n",
        "\n",
        "plt.subplot(1, 4, 3)\n",
        "df_PPC=df_elect[df_elect.party=='PPC']\n",
        "x = df_PPC['sentiment']\n",
        "y = df_PPC['prediction']\n",
        "ppc=plt.hist([x, y], label=['true', 'predict'])\n",
        "plt.title('PPC')\n",
        "plt.legend()\n",
        "\n",
        "plt.subplot(1, 4, 4)\n",
        "df_NDP=df_elect[df_elect.party=='NDP']\n",
        "x = df_NDP['sentiment']\n",
        "y = df_NDP['prediction']\n",
        "ndp=plt.hist([x, y], label=['true', 'predict'])\n",
        "plt.title('NDP')\n",
        "plt.legend()\n",
        "\n",
        "plt.show()"
      ],
      "execution_count": 40,
      "outputs": [
        {
          "output_type": "display_data",
          "data": {
            "image/png": "[encoded data removed]",
            "text/plain": [
              "<Figure size 1152x360 with 4 Axes>"
            ]
          },
          "metadata": {
            "needs_background": "light"
          }
        }
      ]
    },
    {
      "cell_type": "markdown",
      "metadata": {
        "id": "TF-GanCA7GsC"
      },
      "source": [
        "Fro the plots above, we can see that the predications are very similar to the true sentiment. Therefore,   tweets  is \n",
        "useful for political parties during election campaigns. \n",
        "\n",
        "PPC and NDP have less tweets, but higher supporting rates. Half of the tweets supports Liberal and another half against the Liberal. Conservative have slightly more supporters than oppositions.\n",
        "\n",
        "In order to increase the accuracy, we can involve more key words to determine the parties. Also, the dataset is imbalanced, which may cause bias."
      ]
    },
    {
      "cell_type": "markdown",
      "metadata": {
        "id": "sNnBzIDM89Id"
      },
      "source": [
        "**4.2 Negative Reason Prediction**\n",
        "\n",
        "**4.2.1 Obtain the accuray based on the Logistic Regression with Bag of  Word for negative reason** "
      ]
    },
    {
      "cell_type": "code",
      "metadata": {
        "id": "fkM0izaJ9FV2"
      },
      "source": [
        "#Preperation: Obtain the bag of words matrix and split the data \n",
        "\n",
        "df_neg=df_elect[df_elect.sentiment=='negative']\n",
        "\n",
        "#Obtain the bag of word matrix\n",
        "from sklearn.feature_extraction.text import CountVectorizer\n",
        "import numpy as np\n",
        "words_neg = df_neg['token'] #Convert the token column into bag of word matrix\n",
        "vectorizer = CountVectorizer(max_features = 1000)\n",
        "vector_model = vectorizer.fit(words_neg)\n",
        "X_neg= vector_model.transform(words_neg)\n",
        "\n",
        "#Split the data into 30% test set and 70% training set.\n",
        "from sklearn.model_selection import train_test_split\n",
        "y_neg = df_neg['negative_reason']\n",
        "X_train_neg, X_test_neg, y_train_neg, y_test_neg = train_test_split(X_neg,y_neg,test_size=0.3) "
      ],
      "execution_count": 41,
      "outputs": []
    },
    {
      "cell_type": "code",
      "metadata": {
        "colab": {
          "base_uri": "https://localhost:8080/"
        },
        "id": "z1MU7CVj_R9j",
        "outputId": "855d120f-a5d0-46c5-c96f-50eeefb27d0b"
      },
      "source": [
        "model_neg = LogisticRegression()    \n",
        "model_neg.fit(X_train_neg, y_train_neg)\n",
        "predictions_neg = model_neg.predict(X_test_neg)\n",
        "accuracy = accuracy_score(y_test_neg, predictions_neg)\n",
        "print (\"This model got an accuracy of {}% on the testing set\".format(round(accuracy*100,2)))   "
      ],
      "execution_count": 42,
      "outputs": [
        {
          "output_type": "stream",
          "name": "stdout",
          "text": [
            "This model got an accuracy of 51.28% on the testing set\n"
          ]
        }
      ]
    },
    {
      "cell_type": "markdown",
      "metadata": {
        "id": "LUqXMUF4L_iN"
      },
      "source": [
        "It is not a good model predicting the negative reason. Since there are too many categoricals for the negative reason. \n",
        "\n",
        "One way can imporve the accuracy is to reduce the level of targets by combining the similar negative reasons togther. "
      ]
    },
    {
      "cell_type": "markdown",
      "metadata": {
        "id": "RArlXj4K2Ycv"
      },
      "source": [
        "**4.2.2 Hyperparameter Tuning**"
      ]
    },
    {
      "cell_type": "code",
      "metadata": {
        "colab": {
          "base_uri": "https://localhost:8080/"
        },
        "id": "Q6XB9KN5Dq-d",
        "outputId": "f52b144f-a8c1-4045-94e4-2429276d3d2c"
      },
      "source": [
        "logistic=LogisticRegression()\n",
        "print(logistic.get_params())"
      ],
      "execution_count": 43,
      "outputs": [
        {
          "output_type": "stream",
          "name": "stdout",
          "text": [
            "{'C': 1.0, 'class_weight': None, 'dual': False, 'fit_intercept': True, 'intercept_scaling': 1, 'l1_ratio': None, 'max_iter': 100, 'multi_class': 'auto', 'n_jobs': None, 'penalty': 'l2', 'random_state': None, 'solver': 'lbfgs', 'tol': 0.0001, 'verbose': 0, 'warm_start': False}\n"
          ]
        }
      ]
    },
    {
      "cell_type": "code",
      "metadata": {
        "id": "CTsdrXDSJyaK"
      },
      "source": [
        "X_train_neg=X_train_neg.toarray()\n",
        "df_X_train_neg=pd.DataFrame(data=X_train_neg)\n",
        "df_y_train_neg=pd.DataFrame(data=y_train_neg)"
      ],
      "execution_count": 44,
      "outputs": []
    },
    {
      "cell_type": "code",
      "metadata": {
        "id": "Ip2YG3nRPq2E"
      },
      "source": [
        "import warnings\n",
        "#warnings.filterwarnings(\"ignore\", category=ConvergenceWarning)\n",
        "warnings.filterwarnings(\"ignore\")"
      ],
      "execution_count": 45,
      "outputs": []
    },
    {
      "cell_type": "code",
      "metadata": {
        "colab": {
          "base_uri": "https://localhost:8080/"
        },
        "id": "SfkQAt_gMg6t",
        "outputId": "5c59aaee-7951-4990-c5a0-254f5a9ea3f4"
      },
      "source": [
        "#hyperparameter tuning\n",
        "from sklearn.model_selection import KFold\n",
        "from sklearn.preprocessing import StandardScaler\n",
        "\n",
        "scaler = StandardScaler(with_mean=False)\n",
        "kfold = KFold(n_splits=10)\n",
        "kfold.get_n_splits(X_train_neg)\n",
        "\n",
        "best_params = {}\n",
        "best_accuracy = 0\n",
        "\n",
        "for C in [0.001,0.01,0.05,0.1,0.5]:\n",
        "    for solver in ['newton-cg','lbfgs','liblinear','sag']:\n",
        "        \n",
        "        accuracy_list = []\n",
        "        fold_count = 0\n",
        "        model = LogisticRegression(solver = solver, C = C)\n",
        "        for train_idx, test_idx in kfold.split(X_train_neg):\n",
        "            X_train, X_test = df_X_train_neg.values[train_idx], df_X_train_neg.values[test_idx]\n",
        "            y_train, y_test = df_y_train_neg.values[train_idx], df_y_train_neg.values[test_idx]\n",
        "\n",
        "            X_train = scaler.fit_transform(X_train)\n",
        "            X_test = scaler.transform(X_test)\n",
        "\n",
        "            model.fit(X_train, y_train)\n",
        "            predictions = model.predict(X_test)\n",
        "            accuracy = accuracy_score(y_test,predictions)\n",
        "            accuracy_list.append(accuracy)\n",
        "            fold_count += 1\n",
        "            \n",
        "        if np.mean(accuracy_list) > best_accuracy:\n",
        "            best_params = {'C':C, \"solver\": solver}\n",
        "            best_accuracy = np.mean(accuracy_list)\n",
        "\n",
        "print(best_params)\n",
        "print(\"Best Accuracy: {}%\".format(round(best_accuracy*100,3)))"
      ],
      "execution_count": 47,
      "outputs": [
        {
          "output_type": "stream",
          "name": "stdout",
          "text": [
            "{'C': 0.01, 'solver': 'newton-cg'}\n",
            "Best Accuracy: 44.815%\n"
          ]
        }
      ]
    },
    {
      "cell_type": "markdown",
      "metadata": {
        "id": "hkXrMQayQ55w"
      },
      "source": [
        "Therefore, the optimal hyperparameters for C is 0.001, and the best solver is liblinear. "
      ]
    },
    {
      "cell_type": "markdown",
      "metadata": {
        "id": "XcncpMHClJBF"
      },
      "source": [
        "**4.2.3 Combining the similar negative reasons and repredict**"
      ]
    },
    {
      "cell_type": "code",
      "metadata": {
        "colab": {
          "base_uri": "https://localhost:8080/"
        },
        "id": "2RSWgpAz9-oE",
        "outputId": "4d99807d-b28b-4ef5-d3f7-2aa51842ade4"
      },
      "source": [
        "df_y_test_neg=pd.DataFrame(data=y_test_neg,columns=['negative_reason'])\n",
        "df_y_test_neg['negative_reason'].unique()"
      ],
      "execution_count": 91,
      "outputs": [
        {
          "output_type": "execute_result",
          "data": {
            "text/plain": [
              "array(['others', 'tell lies', 'scandal', 'gun control',\n",
              "       'calling election early', 'economy', 'covid ',\n",
              "       'women reproductive right and racism', 'climate problem'],\n",
              "      dtype=object)"
            ]
          },
          "metadata": {},
          "execution_count": 91
        }
      ]
    },
    {
      "cell_type": "code",
      "metadata": {
        "colab": {
          "base_uri": "https://localhost:8080/",
          "height": 436
        },
        "id": "HgWLp8iBBKu_",
        "outputId": "a466b713-af3d-46b0-d116-75b1dcec33ac"
      },
      "source": [
        "import matplotlib.pyplot as plt\n",
        "plt.figure(figsize = (5,3))\n",
        "plt.hist(df_y_test_neg['negative_reason'])\n",
        "plt.xticks(rotation=90)\n",
        "plt.ylabel('Counts')\n",
        "plt.xlabel('Negative Reason')\n",
        "plt.title('Histogram for Negative Reason')"
      ],
      "execution_count": 92,
      "outputs": [
        {
          "output_type": "execute_result",
          "data": {
            "text/plain": [
              "Text(0.5, 1.0, 'Histogram for Negative Reason')"
            ]
          },
          "metadata": {},
          "execution_count": 92
        },
        {
          "output_type": "display_data",
          "data": {
            "image/png": "[encoded data removed]",
            "text/plain": [
              "<Figure size 360x216 with 1 Axes>"
            ]
          },
          "metadata": {
            "needs_background": "light"
          }
        }
      ]
    },
    {
      "cell_type": "markdown",
      "metadata": {
        "id": "Viyz_WN5B3nl"
      },
      "source": [
        "Therefore, the most frequent negative reason is calling election early and tell lies. Since the rest reasons have too little frequencies, we will combine them with 'Others'. "
      ]
    },
    {
      "cell_type": "code",
      "metadata": {
        "id": "PaLxTPliGh2s"
      },
      "source": [
        "df_y_test_neg[\"negative_reason\"].replace({\"scandal\": \"others\", \"gun control\": \"others\",\"economy\":\"others\",\n",
        "                                          \"covid\":\"others\",\"women reproductive right and racism\":\"others\",\"climate problem\":\"others\"}, inplace=True)\n",
        "df_y_train_neg[\"negative_reason\"].replace({\"scandal\": \"others\", \"gun control\": \"others\",\"economy\":\"others\",\n",
        "                                          \"covid\":\"others\",\"women reproductive right and racism\":\"others\",\"climate problem\":\"others\"}, inplace=True)"
      ],
      "execution_count": 94,
      "outputs": []
    },
    {
      "cell_type": "code",
      "metadata": {
        "colab": {
          "base_uri": "https://localhost:8080/"
        },
        "id": "sv8QaSlCHhqe",
        "outputId": "92eabd19-7f8b-4abc-8e2a-cfb41ee88375"
      },
      "source": [
        "model_neg = LogisticRegression()    \n",
        "model_neg.fit(X_train_neg, df_y_train_neg)\n",
        "predictions_neg = model_neg.predict(X_test_neg)\n",
        "accuracy = accuracy_score(df_y_test_neg, predictions_neg)\n",
        "print (\"This model got an accuracy of {}% on the testing set\".format(round(accuracy*100,2)))   "
      ],
      "execution_count": 96,
      "outputs": [
        {
          "output_type": "stream",
          "name": "stdout",
          "text": [
            "This model got an accuracy of 63.25% on the testing set\n"
          ]
        }
      ]
    },
    {
      "cell_type": "markdown",
      "metadata": {
        "id": "usoDu276H5WC"
      },
      "source": [
        "By reducing the number of catergories in the negative reason, the accuracy increaded by approximately 10%. "
      ]
    },
    {
      "cell_type": "markdown",
      "metadata": {
        "id": "InCNIVApIKN1"
      },
      "source": [
        "**4.3 Rank the importance of non-stop words**"
      ]
    },
    {
      "cell_type": "code",
      "metadata": {
        "colab": {
          "base_uri": "https://localhost:8080/"
        },
        "id": "LZycWk-qM6Tf",
        "outputId": "00648d67-c707-4609-bb32-58fcbc1e2ed9"
      },
      "source": [
        "#Logistic Regression\n",
        "from sklearn.linear_model import LogisticRegression\n",
        "model_elect = LogisticRegression()\n",
        "model_elect.fit(X_train_elect,y_train_elect)\n",
        "\n",
        "from sklearn.metrics import accuracy_score\n",
        "predictions_elect = model_elect.predict(X_test_elect)\n",
        "accuracy_elect = accuracy_score(y_test_elect, predictions_elect)\n",
        "print(\"test accuracy for logistic regression is: {}%\".format(accuracy_elect*100))"
      ],
      "execution_count": 104,
      "outputs": [
        {
          "output_type": "stream",
          "name": "stdout",
          "text": [
            "test accuracy for logistic regression is: 77.74086378737542%\n"
          ]
        }
      ]
    },
    {
      "cell_type": "code",
      "metadata": {
        "colab": {
          "base_uri": "https://localhost:8080/",
          "height": 394
        },
        "id": "8ShiCzvsJkJY",
        "outputId": "1fbf4bcb-a1a1-4360-89d4-37e324dd9cd4"
      },
      "source": [
        "from sklearn.ensemble import RandomForestRegressor\n",
        "from sklearn.preprocessing import LabelEncoder\n",
        "from sklearn.preprocessing import OrdinalEncoder\n",
        "\n",
        "# ordinal encode target variable\n",
        "label_encoder = LabelEncoder()\n",
        "y_train_elect_encoded = label_encoder.fit_transform(y_train_elect)\n",
        "df_y_encode=pd.DataFrame(data=y_train_elect_encoded)\n",
        "ordinal = OrdinalEncoder()\n",
        "\n",
        "# fit the model\n",
        "model_electRF = RandomForestRegressor()\n",
        "model_electRF.fit(X_train_elect, df_y_encode)\n",
        "df_feature_importance = pd.DataFrame(model_electRF.feature_importances_, \n",
        "                                     index=vector_model_elect.get_feature_names(), \n",
        "                                     columns=['feature importance']).sort_values('feature importance', ascending=False)\n",
        "df_feature_importance.iloc[0:30,:].plot(kind='bar', figsize=(8,5))"
      ],
      "execution_count": 112,
      "outputs": [
        {
          "output_type": "execute_result",
          "data": {
            "text/plain": [
              "<matplotlib.axes._subplots.AxesSubplot at 0x7fb45f887ed0>"
            ]
          },
          "metadata": {},
          "execution_count": 112
        },
        {
          "output_type": "display_data",
          "data": {
            "image/png": "[encoded data removed]",
            "text/plain": [
              "<Figure size 576x360 with 1 Axes>"
            ]
          },
          "metadata": {
            "needs_background": "light"
          }
        }
      ]
    },
    {
      "cell_type": "code",
      "metadata": {
        "colab": {
          "base_uri": "https://localhost:8080/",
          "height": 1000
        },
        "id": "MUd-wCKJTTQz",
        "outputId": "bcbd41d6-a662-4d1a-ef07-afb29a0d3c01"
      },
      "source": [
        "df_feature_importance.iloc[0:50,:]"
      ],
      "execution_count": 113,
      "outputs": [
        {
          "output_type": "execute_result",
          "data": {
            "text/html": [
              "<div>\n",
              "<style scoped>\n",
              "    .dataframe tbody tr th:only-of-type {\n",
              "        vertical-align: middle;\n",
              "    }\n",
              "\n",
              "    .dataframe tbody tr th {\n",
              "        vertical-align: top;\n",
              "    }\n",
              "\n",
              "    .dataframe thead th {\n",
              "        text-align: right;\n",
              "    }\n",
              "</style>\n",
              "<table border=\"1\" class=\"dataframe\">\n",
              "  <thead>\n",
              "    <tr style=\"text-align: right;\">\n",
              "      <th></th>\n",
              "      <th>feature importance</th>\n",
              "    </tr>\n",
              "  </thead>\n",
              "  <tbody>\n",
              "    <tr>\n",
              "      <th>vote</th>\n",
              "      <td>0.026949</td>\n",
              "    </tr>\n",
              "    <tr>\n",
              "      <th>never</th>\n",
              "      <td>0.025101</td>\n",
              "    </tr>\n",
              "    <tr>\n",
              "      <th>yet</th>\n",
              "      <td>0.020868</td>\n",
              "    </tr>\n",
              "    <tr>\n",
              "      <th>pandemic</th>\n",
              "      <td>0.018486</td>\n",
              "    </tr>\n",
              "    <tr>\n",
              "      <th>bad</th>\n",
              "      <td>0.018337</td>\n",
              "    </tr>\n",
              "    <tr>\n",
              "      <th>gun</th>\n",
              "      <td>0.013565</td>\n",
              "    </tr>\n",
              "    <tr>\n",
              "      <th>best</th>\n",
              "      <td>0.012847</td>\n",
              "    </tr>\n",
              "    <tr>\n",
              "      <th>call</th>\n",
              "      <td>0.012744</td>\n",
              "    </tr>\n",
              "    <tr>\n",
              "      <th>canadians</th>\n",
              "      <td>0.011751</td>\n",
              "    </tr>\n",
              "    <tr>\n",
              "      <th>justintrudeau</th>\n",
              "      <td>0.010411</td>\n",
              "    </tr>\n",
              "    <tr>\n",
              "      <th>telling</th>\n",
              "      <td>0.009806</td>\n",
              "    </tr>\n",
              "    <tr>\n",
              "      <th>answer</th>\n",
              "      <td>0.009618</td>\n",
              "    </tr>\n",
              "    <tr>\n",
              "      <th>vanity</th>\n",
              "      <td>0.009191</td>\n",
              "    </tr>\n",
              "    <tr>\n",
              "      <th>ca</th>\n",
              "      <td>0.009186</td>\n",
              "    </tr>\n",
              "    <tr>\n",
              "      <th>covid</th>\n",
              "      <td>0.009165</td>\n",
              "    </tr>\n",
              "    <tr>\n",
              "      <th>says</th>\n",
              "      <td>0.008525</td>\n",
              "    </tr>\n",
              "    <tr>\n",
              "      <th>racist</th>\n",
              "      <td>0.007651</td>\n",
              "    </tr>\n",
              "    <tr>\n",
              "      <th>cost</th>\n",
              "      <td>0.007587</td>\n",
              "    </tr>\n",
              "    <tr>\n",
              "      <th>full</th>\n",
              "      <td>0.007579</td>\n",
              "    </tr>\n",
              "    <tr>\n",
              "      <th>cut</th>\n",
              "      <td>0.007545</td>\n",
              "    </tr>\n",
              "    <tr>\n",
              "      <th>election</th>\n",
              "      <td>0.007370</td>\n",
              "    </tr>\n",
              "    <tr>\n",
              "      <th>canadian</th>\n",
              "      <td>0.007135</td>\n",
              "    </tr>\n",
              "    <tr>\n",
              "      <th>cbc</th>\n",
              "      <td>0.006902</td>\n",
              "    </tr>\n",
              "    <tr>\n",
              "      <th>failed</th>\n",
              "      <td>0.006878</td>\n",
              "    </tr>\n",
              "    <tr>\n",
              "      <th>assault</th>\n",
              "      <td>0.006844</td>\n",
              "    </tr>\n",
              "    <tr>\n",
              "      <th>trudeau</th>\n",
              "      <td>0.006718</td>\n",
              "    </tr>\n",
              "    <tr>\n",
              "      <th>calling</th>\n",
              "      <td>0.006632</td>\n",
              "    </tr>\n",
              "    <tr>\n",
              "      <th>million</th>\n",
              "      <td>0.006167</td>\n",
              "    </tr>\n",
              "    <tr>\n",
              "      <th>lie</th>\n",
              "      <td>0.006153</td>\n",
              "    </tr>\n",
              "    <tr>\n",
              "      <th>good</th>\n",
              "      <td>0.006142</td>\n",
              "    </tr>\n",
              "    <tr>\n",
              "      <th>fear</th>\n",
              "      <td>0.006113</td>\n",
              "    </tr>\n",
              "    <tr>\n",
              "      <th>rigged</th>\n",
              "      <td>0.006100</td>\n",
              "    </tr>\n",
              "    <tr>\n",
              "      <th>called</th>\n",
              "      <td>0.005905</td>\n",
              "    </tr>\n",
              "    <tr>\n",
              "      <th>destroying</th>\n",
              "      <td>0.005885</td>\n",
              "    </tr>\n",
              "    <tr>\n",
              "      <th>kill</th>\n",
              "      <td>0.005822</td>\n",
              "    </tr>\n",
              "    <tr>\n",
              "      <th>win</th>\n",
              "      <td>0.005679</td>\n",
              "    </tr>\n",
              "    <tr>\n",
              "      <th>unnecessary</th>\n",
              "      <td>0.005514</td>\n",
              "    </tr>\n",
              "    <tr>\n",
              "      <th>way</th>\n",
              "      <td>0.005402</td>\n",
              "    </tr>\n",
              "    <tr>\n",
              "      <th>respect</th>\n",
              "      <td>0.005324</td>\n",
              "    </tr>\n",
              "    <tr>\n",
              "      <th>another</th>\n",
              "      <td>0.005155</td>\n",
              "    </tr>\n",
              "    <tr>\n",
              "      <th>guns</th>\n",
              "      <td>0.005151</td>\n",
              "    </tr>\n",
              "    <tr>\n",
              "      <th>federal</th>\n",
              "      <td>0.005145</td>\n",
              "    </tr>\n",
              "    <tr>\n",
              "      <th>voteliberal</th>\n",
              "      <td>0.005132</td>\n",
              "    </tr>\n",
              "    <tr>\n",
              "      <th>useless</th>\n",
              "      <td>0.005010</td>\n",
              "    </tr>\n",
              "    <tr>\n",
              "      <th>child</th>\n",
              "      <td>0.004857</td>\n",
              "    </tr>\n",
              "    <tr>\n",
              "      <th>days</th>\n",
              "      <td>0.004833</td>\n",
              "    </tr>\n",
              "    <tr>\n",
              "      <th>afghanistan</th>\n",
              "      <td>0.004724</td>\n",
              "    </tr>\n",
              "    <tr>\n",
              "      <th>seen</th>\n",
              "      <td>0.004723</td>\n",
              "    </tr>\n",
              "    <tr>\n",
              "      <th>otoole</th>\n",
              "      <td>0.004686</td>\n",
              "    </tr>\n",
              "    <tr>\n",
              "      <th>nevervoteconservative</th>\n",
              "      <td>0.004469</td>\n",
              "    </tr>\n",
              "  </tbody>\n",
              "</table>\n",
              "</div>"
            ],
            "text/plain": [
              "                       feature importance\n",
              "vote                             0.026949\n",
              "never                            0.025101\n",
              "yet                              0.020868\n",
              "pandemic                         0.018486\n",
              "bad                              0.018337\n",
              "gun                              0.013565\n",
              "best                             0.012847\n",
              "call                             0.012744\n",
              "canadians                        0.011751\n",
              "justintrudeau                    0.010411\n",
              "telling                          0.009806\n",
              "answer                           0.009618\n",
              "vanity                           0.009191\n",
              "ca                               0.009186\n",
              "covid                            0.009165\n",
              "says                             0.008525\n",
              "racist                           0.007651\n",
              "cost                             0.007587\n",
              "full                             0.007579\n",
              "cut                              0.007545\n",
              "election                         0.007370\n",
              "canadian                         0.007135\n",
              "cbc                              0.006902\n",
              "failed                           0.006878\n",
              "assault                          0.006844\n",
              "trudeau                          0.006718\n",
              "calling                          0.006632\n",
              "million                          0.006167\n",
              "lie                              0.006153\n",
              "good                             0.006142\n",
              "fear                             0.006113\n",
              "rigged                           0.006100\n",
              "called                           0.005905\n",
              "destroying                       0.005885\n",
              "kill                             0.005822\n",
              "win                              0.005679\n",
              "unnecessary                      0.005514\n",
              "way                              0.005402\n",
              "respect                          0.005324\n",
              "another                          0.005155\n",
              "guns                             0.005151\n",
              "federal                          0.005145\n",
              "voteliberal                      0.005132\n",
              "useless                          0.005010\n",
              "child                            0.004857\n",
              "days                             0.004833\n",
              "afghanistan                      0.004724\n",
              "seen                             0.004723\n",
              "otoole                           0.004686\n",
              "nevervoteconservative            0.004469"
            ]
          },
          "metadata": {},
          "execution_count": 113
        }
      ]
    },
    {
      "cell_type": "markdown",
      "metadata": {
        "id": "o5kpry8UPnOD"
      },
      "source": [
        "Therefore, the most important word is vote, never, yet, pandemic, bad, gun, best, call..."
      ]
    }
  ]
}